{
 "cells": [
  {
   "cell_type": "code",
   "execution_count": 1,
   "metadata": {},
   "outputs": [],
   "source": [
    "## Loading Libraries\n",
    "import pandas as pd\n",
    "import numpy as np\n",
    "import sys\n",
    "import jdatetime as jd\n",
    "import os\n",
    "import pickle\n",
    "import io\n",
    "from scipy.stats import ttest_ind\n",
    "from scipy import stats\n",
    "\n",
    "# import power_index_calculator as px\n",
    "from IPython.core.interactiveshell import InteractiveShell\n",
    "InteractiveShell.ast_node_interactivity = \"all\"\n",
    "\n",
    "from find_significant import find_significant"
   ]
  },
  {
   "cell_type": "markdown",
   "metadata": {},
   "source": [
    "# **Regression Analysis of Lintner Model**"
   ]
  },
  {
   "cell_type": "code",
   "execution_count": 2,
   "metadata": {},
   "outputs": [],
   "source": [
    "# These Two file are creatied using the do-file \"Ahmad-2012-The Influence of Ownership Structure on the Firms Dividend Policy Based\"\n",
    "# in \"C:\\Users\\Mahdi\\OneDrive\\Master Thesis\\Codes\\Dividend and OCM\\Replication\\Ahmad-2012-The Influence of Ownership Structure on the Firms Dividend Policy Based\"\n",
    "\n",
    "os.chdir(r\"C:\\Users\\Mahdi\\OneDrive\\Master Thesis\\Codes\\Dividend and OCM\\Replication\\Ahmad-2012-The Influence of Ownership Structure on the Firms Dividend Policy Based\\StataTex\")\n",
    "Coef = pd.read_excel('Coefs.xlsx',sheet_name='Coef',index_col=0)\n",
    "p_val = pd.read_excel('Coefs.xlsx',sheet_name='p_val',index_col=0)"
   ]
  },
  {
   "cell_type": "code",
   "execution_count": 3,
   "metadata": {},
   "outputs": [],
   "source": [
    "out = pd.DataFrame(index=list(Coef.index),columns=list(Coef.columns))\n",
    "for row in list(Coef.index):\n",
    "    for col in list(Coef.columns):\n",
    "        out.loc[row,col] = find_significant(p=p_val.loc[row,col],val=Coef.loc[row,col])\n",
    "        \n",
    "os.chdir(r\"C:\\Users\\Mahdi\\OneDrive\\Master Thesis\\Codes\\Dividend and OCM\\Replication\\Ahmad-2012-The Influence of Ownership Structure on the Firms Dividend Policy Based\\PythonTex\")\n",
    "out.to_latex('LintnerModels.tex',index=True,multirow=True,\n",
    "             bold_rows=True,caption=\"Coefficients of the OCM in the Lintner Model\")        "
   ]
  },
  {
   "cell_type": "code",
   "execution_count": 4,
   "metadata": {},
   "outputs": [
    {
     "data": {
      "text/html": [
       "<div>\n",
       "<style scoped>\n",
       "    .dataframe tbody tr th:only-of-type {\n",
       "        vertical-align: middle;\n",
       "    }\n",
       "\n",
       "    .dataframe tbody tr th {\n",
       "        vertical-align: top;\n",
       "    }\n",
       "\n",
       "    .dataframe thead th {\n",
       "        text-align: right;\n",
       "    }\n",
       "</style>\n",
       "<table border=\"1\" class=\"dataframe\">\n",
       "  <thead>\n",
       "    <tr style=\"text-align: right;\">\n",
       "      <th></th>\n",
       "      <th>FAM</th>\n",
       "      <th>PAM</th>\n",
       "    </tr>\n",
       "  </thead>\n",
       "  <tbody>\n",
       "    <tr>\n",
       "      <th>largest_owner</th>\n",
       "      <td>0.016***</td>\n",
       "      <td>0.012***</td>\n",
       "    </tr>\n",
       "    <tr>\n",
       "      <th>first_second</th>\n",
       "      <td>0.014***</td>\n",
       "      <td>0.005*</td>\n",
       "    </tr>\n",
       "    <tr>\n",
       "      <th>first_sumtwofour</th>\n",
       "      <td>0.012**</td>\n",
       "      <td>0.004</td>\n",
       "    </tr>\n",
       "    <tr>\n",
       "      <th>sumfive</th>\n",
       "      <td>0.012***</td>\n",
       "      <td>0.01***</td>\n",
       "    </tr>\n",
       "    <tr>\n",
       "      <th>herfindahl</th>\n",
       "      <td>0.02***</td>\n",
       "      <td>0.016***</td>\n",
       "    </tr>\n",
       "    <tr>\n",
       "      <th>gini</th>\n",
       "      <td>0.259***</td>\n",
       "      <td>0.109*</td>\n",
       "    </tr>\n",
       "    <tr>\n",
       "      <th>sscl</th>\n",
       "      <td>0.741***</td>\n",
       "      <td>0.581***</td>\n",
       "    </tr>\n",
       "    <tr>\n",
       "      <th>ssco</th>\n",
       "      <td>-0.463***</td>\n",
       "      <td>-0.608***</td>\n",
       "    </tr>\n",
       "    <tr>\n",
       "      <th>ssdl</th>\n",
       "      <td>0.732***</td>\n",
       "      <td>0.568***</td>\n",
       "    </tr>\n",
       "    <tr>\n",
       "      <th>ssdo</th>\n",
       "      <td>-0.6***</td>\n",
       "      <td>-0.591***</td>\n",
       "    </tr>\n",
       "    <tr>\n",
       "      <th>bzcl</th>\n",
       "      <td>0.608***</td>\n",
       "      <td>0.409***</td>\n",
       "    </tr>\n",
       "    <tr>\n",
       "      <th>bzco</th>\n",
       "      <td>-0.608***</td>\n",
       "      <td>-0.62***</td>\n",
       "    </tr>\n",
       "    <tr>\n",
       "      <th>bzdl</th>\n",
       "      <td>0.543***</td>\n",
       "      <td>0.353***</td>\n",
       "    </tr>\n",
       "  </tbody>\n",
       "</table>\n",
       "</div>"
      ],
      "text/plain": [
       "                        FAM        PAM\n",
       "largest_owner      0.016***   0.012***\n",
       "first_second       0.014***     0.005*\n",
       "first_sumtwofour    0.012**      0.004\n",
       "sumfive            0.012***    0.01***\n",
       "herfindahl          0.02***   0.016***\n",
       "gini               0.259***     0.109*\n",
       "sscl               0.741***   0.581***\n",
       "ssco              -0.463***  -0.608***\n",
       "ssdl               0.732***   0.568***\n",
       "ssdo                -0.6***  -0.591***\n",
       "bzcl               0.608***   0.409***\n",
       "bzco              -0.608***   -0.62***\n",
       "bzdl               0.543***   0.353***"
      ]
     },
     "execution_count": 4,
     "metadata": {},
     "output_type": "execute_result"
    }
   ],
   "source": [
    "out"
   ]
  }
 ],
 "metadata": {
  "kernelspec": {
   "display_name": "Python 3",
   "language": "python",
   "name": "python3"
  },
  "language_info": {
   "codemirror_mode": {
    "name": "ipython",
    "version": 3
   },
   "file_extension": ".py",
   "mimetype": "text/x-python",
   "name": "python",
   "nbconvert_exporter": "python",
   "pygments_lexer": "ipython3",
   "version": "3.7.6"
  }
 },
 "nbformat": 4,
 "nbformat_minor": 4
}
