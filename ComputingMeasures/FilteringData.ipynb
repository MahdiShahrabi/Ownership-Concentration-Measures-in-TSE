{
 "cells": [
  {
   "cell_type": "code",
   "execution_count": 6,
   "metadata": {},
   "outputs": [],
   "source": [
    "## Loading Libraries\n",
    "import pandas as pd\n",
    "import numpy as np\n",
    "import sys\n",
    "import jdatetime as jd\n",
    "import os\n",
    "import glob\n",
    "from IPython.core.interactiveshell import InteractiveShell\n",
    "InteractiveShell.ast_node_interactivity = \"all\""
   ]
  },
  {
   "cell_type": "code",
   "execution_count": 7,
   "metadata": {},
   "outputs": [
    {
     "name": "stdout",
     "output_type": "stream",
     "text": [
      "Wall time: 1min 59s\n",
      "Parser   : 284 ms\n"
     ]
    }
   ],
   "source": [
    "%%time\n",
    "## Loading DATA\n",
    "os.chdir(r\"D:\\Shareholder Data\\Cleaned - Merged with Price\")\n",
    "all_filenames = [i for i in glob.glob('*.{}'.format('csv'))]\n",
    "SDATA = pd.concat([pd.read_csv(f,index_col=0).drop_duplicates() for f in all_filenames ])\n",
    "\n",
    "## Marketcap Data\n",
    "os.chdir(r\"D:\\Shareholder Data/\")\n",
    "mcap= pd.read_csv('mcap.csv',index_col=0)\n",
    "# Conver date from string to jdatetime\n",
    "mcap['True_Date'] = pd.to_datetime(mcap['True_Date'], format='%Y-%m-%d')\n",
    "G = mcap.True_Date.drop_duplicates()\n",
    "J = G.apply(lambda x: jd.date.fromgregorian(day=x.day,month=x.month,year=x.year))\n",
    "DataOrg_date_GtoJ_dict = dict(zip(G,J))\n",
    "mcap['Jalali_Date']=mcap.True_Date.map(DataOrg_date_GtoJ_dict)"
   ]
  },
  {
   "cell_type": "code",
   "execution_count": 8,
   "metadata": {},
   "outputs": [],
   "source": [
    "## Mergind with Marketcap Data\n",
    "# SDATA.drop(columns=['MarketCap'],inplace=True)\n",
    "# SDATA = pd.merge(SDATA,mcap[['Symbol','Jalali_Date','MarketCap']],left_on=['Symbol','Jalali_Date'],\n",
    "#                  right_on=['Symbol','Jalali_Date'],how='left')"
   ]
  },
  {
   "cell_type": "code",
   "execution_count": 9,
   "metadata": {},
   "outputs": [
    {
     "name": "stdout",
     "output_type": "stream",
     "text": [
      "Wall time: 13.1 s\n"
     ]
    }
   ],
   "source": [
    "%%time\n",
    "# Conver date from string to jdatetime\n",
    "SDATA['True_Date'] = pd.to_datetime(SDATA['True_Date'], format='%Y-%m-%d')\n",
    "G = SDATA.True_Date.drop_duplicates()\n",
    "J = G.apply(lambda x: jd.date.fromgregorian(day=x.day,month=x.month,year=x.year))\n",
    "DataOrg_date_GtoJ_dict = dict(zip(G,J))\n",
    "SDATA['Jalali_Date']=SDATA.True_Date.map(DataOrg_date_GtoJ_dict)"
   ]
  },
  {
   "cell_type": "code",
   "execution_count": 10,
   "metadata": {},
   "outputs": [
    {
     "name": "stdout",
     "output_type": "stream",
     "text": [
      "1390\n",
      "1391\n",
      "1392\n",
      "1393\n",
      "1394\n",
      "1395\n",
      "1396\n",
      "1397\n",
      "1398\n",
      "1399\n"
     ]
    }
   ],
   "source": [
    "# Filtering and keeping only the last date date.\n",
    "for year in list(np.arange(1390,1400,1)):\n",
    "    print(year)\n",
    "    temp = SDATA[SDATA.year==year]\n",
    "    last_day = temp.Jalali_Date.drop_duplicates().sort_values(ascending=True).iloc[-1]\n",
    "    temp = temp[temp.Jalali_Date == last_day]\n",
    "\n",
    "    # Saving the file\n",
    "    os.chdir(r\"C:\\Users\\Mahdi\\OneDrive\\Master Thesis\\Data\")\n",
    "    name = 'Shareholder'+str(year)+'.csv'\n",
    "    temp.to_csv(name)"
   ]
  },
  {
   "cell_type": "code",
   "execution_count": null,
   "metadata": {},
   "outputs": [],
   "source": []
  }
 ],
 "metadata": {
  "kernelspec": {
   "display_name": "Python 3",
   "language": "python",
   "name": "python3"
  },
  "language_info": {
   "codemirror_mode": {
    "name": "ipython",
    "version": 3
   },
   "file_extension": ".py",
   "mimetype": "text/x-python",
   "name": "python",
   "nbconvert_exporter": "python",
   "pygments_lexer": "ipython3",
   "version": "3.7.6"
  },
  "varInspector": {
   "cols": {
    "lenName": 16,
    "lenType": 16,
    "lenVar": 40
   },
   "kernels_config": {
    "python": {
     "delete_cmd_postfix": "",
     "delete_cmd_prefix": "del ",
     "library": "var_list.py",
     "varRefreshCmd": "print(var_dic_list())"
    },
    "r": {
     "delete_cmd_postfix": ") ",
     "delete_cmd_prefix": "rm(",
     "library": "var_list.r",
     "varRefreshCmd": "cat(var_dic_list()) "
    }
   },
   "types_to_exclude": [
    "module",
    "function",
    "builtin_function_or_method",
    "instance",
    "_Feature"
   ],
   "window_display": false
  }
 },
 "nbformat": 4,
 "nbformat_minor": 4
}
