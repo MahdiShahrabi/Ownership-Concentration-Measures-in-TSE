{
 "cells": [
  {
   "cell_type": "code",
   "execution_count": 1,
   "metadata": {},
   "outputs": [],
   "source": [
    "## Loading Libraries\n",
    "import pandas as pd\n",
    "import numpy as np\n",
    "import sys\n",
    "import jdatetime as jd\n",
    "import os\n",
    "import pickle\n",
    "\n",
    "# import power_index_calculator as px\n",
    "from IPython.core.interactiveshell import InteractiveShell\n",
    "InteractiveShell.ast_node_interactivity = \"all\""
   ]
  },
  {
   "cell_type": "code",
   "execution_count": 2,
   "metadata": {},
   "outputs": [],
   "source": [
    "## Loading functions\n",
    "from convert_ar_characters import convert_ar_characters\n",
    "from ReadingBalancesheetData import read_blnc_data\n",
    "from nthMax import nth_max\n",
    "from gini import gini\n",
    "from find_shapley import find_shapley\n",
    "from find_banzhaf import find_banzhaf\n",
    "from gameTheoric_concentration import gameTheoric_concentration\n",
    "from fill_shapley_banzhaf import fill_shapley_banzhaf"
   ]
  },
  {
   "cell_type": "markdown",
   "metadata": {},
   "source": [
    "# **Loading Shareholder Data**"
   ]
  },
  {
   "cell_type": "code",
   "execution_count": 3,
   "metadata": {},
   "outputs": [],
   "source": [
    "## Loading DATA\n",
    "os.chdir(r\"C:\\Users\\Mahdi\\OneDrive\\Master Thesis\\Data\")\n",
    "SDATA = pd.read_csv(\"Shareholder1398.csv\",index_col=0)\n",
    "\n",
    "# Conver date from string to jdatetime\n",
    "SDATA['True_Date'] = pd.to_datetime(SDATA['True_Date'], format='%Y-%m-%d')\n",
    "G = SDATA.True_Date.drop_duplicates()\n",
    "J = G.apply(lambda x: jd.date.fromgregorian(day=x.day,month=x.month,year=x.year))\n",
    "DataOrg_date_GtoJ_dict = dict(zip(G,J))\n",
    "SDATA['Jalali_Date']=SDATA.True_Date.map(DataOrg_date_GtoJ_dict)\n",
    "\n",
    "SDATA.drop(columns=['High', 'Low', 'Open', 'Last', 'Volume', 'close',\n",
    "       'True_Date', 'year', 'month', 'day', 'Fill_Flag','Unadjusted_close','chnk_id'],inplace=True)"
   ]
  },
  {
   "cell_type": "code",
   "execution_count": 4,
   "metadata": {},
   "outputs": [
    {
     "name": "stdout",
     "output_type": "stream",
     "text": [
      "Number of Observation is:  655 \n",
      "\n",
      "122  is deleted becaause their sum_above1% is equalt to or more than  90 %\n",
      "159  is deleted becaause their number of holder is less or equal than  2\n",
      "0  is deleted becaause their MarketCap is less or equal than  1000000000000.0\n",
      "\n",
      "Number of remained Observation is:  374\n"
     ]
    }
   ],
   "source": [
    "# Creating Dataframe for saving concentration mearsurs\n",
    "CMdf = SDATA.groupby('Symbol',as_index=False).agg({'Id_tse':'first','percent':'sum','ShareHolder':'count',\n",
    "                                                   'MarketCap':'first'}).rename(columns={'ShareHolder':'Num_holders',\n",
    "                                                                                         'percent':'sum_over1'})\n",
    "CMdf.reset_index(drop=True,inplace=True)\n",
    "\n",
    "print('Number of Observation is: ',len(CMdf),'\\n')\n",
    "\n",
    "## Filtering Data\n",
    "theta_sum1 = 90\n",
    "theta_holder = 2\n",
    "MC = 100e10\n",
    "\n",
    "\n",
    "filtered = CMdf[CMdf.sum_over1>=theta_sum1]\n",
    "CMdf = CMdf[CMdf.sum_over1<=theta_sum1]\n",
    "print(len(filtered),' is deleted becaause their sum_above1% is equalt to or more than ',theta_sum1,'%')\n",
    "\n",
    "filtered = CMdf[CMdf.Num_holders<=theta_holder]\n",
    "CMdf = CMdf[CMdf.Num_holders>theta_holder]\n",
    "print(len(filtered),' is deleted becaause their number of holder is less or equal than ',theta_holder)\n",
    "\n",
    "filtered = CMdf[CMdf.MarketCap<=MC]\n",
    "CMdf = CMdf[np.logical_or(CMdf.MarketCap>MC,pd.isnull(CMdf.MarketCap))]\n",
    "print(len(filtered),' is deleted becaause their MarketCap is less or equal than ',MC)\n",
    "\n",
    "print('\\nNumber of remained Observation is: ',len(CMdf))"
   ]
  },
  {
   "cell_type": "markdown",
   "metadata": {},
   "source": [
    "# **Concentration Measures**"
   ]
  },
  {
   "cell_type": "markdown",
   "metadata": {},
   "source": [
    "## 1- Largest Owner"
   ]
  },
  {
   "cell_type": "code",
   "execution_count": 5,
   "metadata": {},
   "outputs": [],
   "source": [
    "temp = SDATA.groupby('Symbol',as_index=False).agg({'percent':'max'}).rename(columns={'percent':'Largest_Owner'})\n",
    "CMdf = pd.merge(CMdf,temp,left_on='Symbol',right_on='Symbol',how='left')"
   ]
  },
  {
   "cell_type": "markdown",
   "metadata": {},
   "source": [
    "## 2- First/Second"
   ]
  },
  {
   "cell_type": "code",
   "execution_count": 6,
   "metadata": {},
   "outputs": [
    {
     "name": "stderr",
     "output_type": "stream",
     "text": [
      "C:\\Users\\Mahdi\\Anaconda3\\lib\\site-packages\\pandas\\core\\reshape\\merge.py:618: UserWarning: merging between different levels can give an unintended result (1 levels on the left, 2 on the right)\n",
      "  warnings.warn(msg, UserWarning)\n",
      "C:\\Users\\Mahdi\\Anaconda3\\lib\\site-packages\\pandas\\core\\generic.py:3936: PerformanceWarning: dropping on a non-lexsorted multi-index without a level parameter may impact performance.\n",
      "  obj = obj._drop_axis(labels, axis, level=level, errors=errors)\n"
     ]
    }
   ],
   "source": [
    "temp = SDATA.groupby('Symbol',as_index=False).agg({'percent':{lambda x: max(x)/nth_max(x,nth=2,interval=False)}}).rename(columns={'percent':'First_Second'})\n",
    "CMdf = pd.merge(CMdf,temp,left_on='Symbol',right_on='Symbol',how='left').rename(columns={('First_Second', '<lambda>'):'First_Second'})"
   ]
  },
  {
   "cell_type": "markdown",
   "metadata": {},
   "source": [
    "## 3- First/Sumtwofour"
   ]
  },
  {
   "cell_type": "code",
   "execution_count": 7,
   "metadata": {},
   "outputs": [],
   "source": [
    "temp = SDATA.groupby('Symbol',as_index=False).agg({'percent':{lambda x: max(x)/sum(nth_max(x,nth=[2,4],interval=True))}}).rename(\n",
    "    columns={'percent':'First_Sumtwofour'})\n",
    "CMdf = pd.merge(CMdf,temp,left_on='Symbol',right_on='Symbol',how='left').rename(columns={('First_Sumtwofour', '<lambda>'):'First_Sumtwofour'})"
   ]
  },
  {
   "cell_type": "markdown",
   "metadata": {},
   "source": [
    "## 4- Sumfive"
   ]
  },
  {
   "cell_type": "code",
   "execution_count": 8,
   "metadata": {},
   "outputs": [],
   "source": [
    "temp = SDATA.groupby('Symbol',as_index=False).agg({'percent':{lambda x: sum(nth_max(x,nth=[1,5],interval=True))}}).rename(columns={'percent':'Sumfive'})\n",
    "CMdf = pd.merge(CMdf,temp,left_on='Symbol',right_on='Symbol',how='left').rename(columns={('Sumfive', '<lambda>'):'Sumfive'})"
   ]
  },
  {
   "cell_type": "markdown",
   "metadata": {},
   "source": [
    "## 5- Gini"
   ]
  },
  {
   "cell_type": "markdown",
   "metadata": {},
   "source": [
    "We calculate gini coeficient using Deaton 1997:\n",
    "$$ \\gamma = \\frac{N+1}{N-1} - \\frac{2}{\\mu\\times N\\times(N-1)}\\sum_{i=1}^N{\\rho_ix_i}$$"
   ]
  },
  {
   "cell_type": "code",
   "execution_count": 9,
   "metadata": {},
   "outputs": [],
   "source": [
    "temp = SDATA.groupby('Symbol',as_index=False).agg({'percent':{lambda x: gini(list(x))}}).rename(columns={'percent':'Gini'})\n",
    "CMdf = pd.merge(CMdf,temp,left_on='Symbol',right_on='Symbol',how='left').rename(columns={('Gini', '<lambda>'):'Gini'})"
   ]
  },
  {
   "cell_type": "markdown",
   "metadata": {},
   "source": [
    "## 6- Herfindhal"
   ]
  },
  {
   "cell_type": "code",
   "execution_count": 10,
   "metadata": {},
   "outputs": [],
   "source": [
    "temp = SDATA.groupby('Symbol',as_index=False).agg({'percent':{lambda x: sum([(t/100)**2 for t in list(x)])}}).rename(columns={'percent':'Herfindhal'})\n",
    "CMdf = pd.merge(CMdf,temp,left_on='Symbol',right_on='Symbol',how='left').rename(columns={('Herfindhal', '<lambda>'):'Herfindhal'})"
   ]
  },
  {
   "cell_type": "markdown",
   "metadata": {},
   "source": [
    "## 7 & 8-Shapley-Shubik & Banzhaf"
   ]
  },
  {
   "cell_type": "code",
   "execution_count": 11,
   "metadata": {},
   "outputs": [],
   "source": [
    "# # Initiating columns\n",
    "# CMdf['SSCL'] = np.nan\n",
    "# CMdf['SSCO'] = np.nan\n",
    "# CMdf['SSDL'] = np.nan\n",
    "# CMdf['SSDO'] = np.nan\n",
    "# CMdf['BZCL'] = np.nan\n",
    "# CMdf['BZCO'] = np.nan\n",
    "# CMdf['BZDL'] = np.nan\n",
    "\n",
    "os.chdir(r\"C:\\Users\\Mahdi\\OneDrive\\Master Thesis\\Data\")\n",
    "CMdf_load = pd.read_csv('Measures1398.csv',index_col=0)\n",
    "\n",
    "CMdf = pd.merge(CMdf,CMdf_load[['Symbol','SSCL', 'SSCO', 'SSDL', 'SSDO', 'BZCL', 'BZCO', 'BZDL']],left_on='Symbol',right_on='Symbol',how='left')"
   ]
  },
  {
   "cell_type": "code",
   "execution_count": null,
   "metadata": {},
   "outputs": [],
   "source": [
    "%%time\n",
    "data = fill_shapley_banzhaf(data = CMdf,SDATA=SDATA,fast_mode = True,time_pnt=True,major_thr = 10)\n",
    "CMdf = data['CMdf']\n",
    "\n",
    "print('len(Errors): ',len(data['Errors']))\n",
    "data['Errors']\n",
    "[x for x in data['Errors'] if x[2]!= 'Error: request error!']"
   ]
  },
  {
   "cell_type": "code",
   "execution_count": 12,
   "metadata": {},
   "outputs": [],
   "source": [
    "# CMdf.loc[CMdf['SSCO']==np.inf,'SSCO'] = np.nan\n",
    "# CMdf.loc[CMdf['Num_holders']==1,'First_Second'] = np.nan\n",
    "# CMdf.loc[CMdf['Num_holders']==2,'First_Sumtwofour'] = np.nan\n",
    "# CMdf.loc[CMdf['Num_holders']==1,'Gini'] = np.nan\n",
    "\n",
    "os.chdir(r\"C:\\Users\\Mahdi\\OneDrive\\Master Thesis\\Data\")\n",
    "CMdf.to_csv('Measures1398.csv')"
   ]
  },
  {
   "cell_type": "markdown",
   "metadata": {},
   "source": [
    "# **Loading Balancesheet Data and Merging**"
   ]
  },
  {
   "cell_type": "code",
   "execution_count": 13,
   "metadata": {},
   "outputs": [],
   "source": [
    "blnc_data = read_blnc_data(file='98.txt')\n",
    "blnc_data['book_value'] = blnc_data.Tot_asset-blnc_data.Tot_lib\n",
    "blnc_data = blnc_data[blnc_data.book_value>0]"
   ]
  },
  {
   "cell_type": "code",
   "execution_count": 14,
   "metadata": {},
   "outputs": [],
   "source": [
    "data_out = pd.merge(CMdf,blnc_data[['Symbol','Tot_asset', 'Tot_lib', 'Capital', 'Equity_at_year_end','Debt_Equity', 'Debt_Equity_normal', 'book_value']]\n",
    "                    ,left_on='Symbol',right_on='Symbol',how='outer')\n",
    "\n",
    "os.chdir(r\"C:\\Users\\Mahdi\\OneDrive\\Master Thesis\\Data\")\n",
    "data_out.to_csv('data_owenership98_blnc98.csv')"
   ]
  },
  {
   "cell_type": "code",
   "execution_count": 25,
   "metadata": {},
   "outputs": [],
   "source": [
    "np.round(CMdf.describe(),3).to_csv('OCM_Stat.csv')"
   ]
  },
  {
   "cell_type": "code",
   "execution_count": 24,
   "metadata": {},
   "outputs": [
    {
     "data": {
      "text/html": [
       "<div>\n",
       "<style scoped>\n",
       "    .dataframe tbody tr th:only-of-type {\n",
       "        vertical-align: middle;\n",
       "    }\n",
       "\n",
       "    .dataframe tbody tr th {\n",
       "        vertical-align: top;\n",
       "    }\n",
       "\n",
       "    .dataframe thead th {\n",
       "        text-align: right;\n",
       "    }\n",
       "</style>\n",
       "<table border=\"1\" class=\"dataframe\">\n",
       "  <thead>\n",
       "    <tr style=\"text-align: right;\">\n",
       "      <th></th>\n",
       "      <th>Id_tse</th>\n",
       "      <th>sum_over1</th>\n",
       "      <th>Num_holders</th>\n",
       "      <th>MarketCap</th>\n",
       "      <th>Largest_Owner</th>\n",
       "      <th>First_Second</th>\n",
       "      <th>First_Sumtwofour</th>\n",
       "      <th>Sumfive</th>\n",
       "      <th>Gini</th>\n",
       "      <th>Herfindhal</th>\n",
       "      <th>SSCL</th>\n",
       "      <th>SSCO</th>\n",
       "      <th>SSDL</th>\n",
       "      <th>SSDO</th>\n",
       "      <th>BZCL</th>\n",
       "      <th>BZCO</th>\n",
       "      <th>BZDL</th>\n",
       "    </tr>\n",
       "  </thead>\n",
       "  <tbody>\n",
       "    <tr>\n",
       "      <th>count</th>\n",
       "      <td>3.740000e+02</td>\n",
       "      <td>374.000</td>\n",
       "      <td>374.000</td>\n",
       "      <td>5.300000e+01</td>\n",
       "      <td>374.000</td>\n",
       "      <td>374.000</td>\n",
       "      <td>374.000</td>\n",
       "      <td>374.000</td>\n",
       "      <td>374.000</td>\n",
       "      <td>374.000</td>\n",
       "      <td>374.000</td>\n",
       "      <td>364.000</td>\n",
       "      <td>367.000</td>\n",
       "      <td>367.000</td>\n",
       "      <td>374.000</td>\n",
       "      <td>374.000</td>\n",
       "      <td>374.000</td>\n",
       "    </tr>\n",
       "    <tr>\n",
       "      <th>mean</th>\n",
       "      <td>3.617226e+16</td>\n",
       "      <td>67.680</td>\n",
       "      <td>5.936</td>\n",
       "      <td>2.588607e+13</td>\n",
       "      <td>40.098</td>\n",
       "      <td>5.953</td>\n",
       "      <td>3.254</td>\n",
       "      <td>64.059</td>\n",
       "      <td>0.625</td>\n",
       "      <td>0.231</td>\n",
       "      <td>0.611</td>\n",
       "      <td>0.207</td>\n",
       "      <td>0.623</td>\n",
       "      <td>0.202</td>\n",
       "      <td>0.679</td>\n",
       "      <td>0.165</td>\n",
       "      <td>0.792</td>\n",
       "    </tr>\n",
       "    <tr>\n",
       "      <th>std</th>\n",
       "      <td>2.044339e+16</td>\n",
       "      <td>18.444</td>\n",
       "      <td>4.074</td>\n",
       "      <td>5.575595e+13</td>\n",
       "      <td>19.269</td>\n",
       "      <td>8.306</td>\n",
       "      <td>4.101</td>\n",
       "      <td>19.587</td>\n",
       "      <td>0.197</td>\n",
       "      <td>0.157</td>\n",
       "      <td>0.346</td>\n",
       "      <td>0.229</td>\n",
       "      <td>0.343</td>\n",
       "      <td>0.228</td>\n",
       "      <td>0.361</td>\n",
       "      <td>0.227</td>\n",
       "      <td>0.305</td>\n",
       "    </tr>\n",
       "    <tr>\n",
       "      <th>min</th>\n",
       "      <td>4.089344e+14</td>\n",
       "      <td>6.980</td>\n",
       "      <td>3.000</td>\n",
       "      <td>1.640811e+12</td>\n",
       "      <td>2.600</td>\n",
       "      <td>1.000</td>\n",
       "      <td>0.333</td>\n",
       "      <td>6.980</td>\n",
       "      <td>0.063</td>\n",
       "      <td>0.002</td>\n",
       "      <td>0.026</td>\n",
       "      <td>0.000</td>\n",
       "      <td>0.027</td>\n",
       "      <td>0.000</td>\n",
       "      <td>0.026</td>\n",
       "      <td>0.000</td>\n",
       "      <td>0.062</td>\n",
       "    </tr>\n",
       "    <tr>\n",
       "      <th>25%</th>\n",
       "      <td>1.809666e+16</td>\n",
       "      <td>57.732</td>\n",
       "      <td>4.000</td>\n",
       "      <td>7.049370e+12</td>\n",
       "      <td>22.577</td>\n",
       "      <td>1.620</td>\n",
       "      <td>0.880</td>\n",
       "      <td>52.440</td>\n",
       "      <td>0.497</td>\n",
       "      <td>0.100</td>\n",
       "      <td>0.271</td>\n",
       "      <td>0.000</td>\n",
       "      <td>0.288</td>\n",
       "      <td>0.000</td>\n",
       "      <td>0.318</td>\n",
       "      <td>0.000</td>\n",
       "      <td>0.500</td>\n",
       "    </tr>\n",
       "    <tr>\n",
       "      <th>50%</th>\n",
       "      <td>3.689308e+16</td>\n",
       "      <td>72.605</td>\n",
       "      <td>5.000</td>\n",
       "      <td>1.160100e+13</td>\n",
       "      <td>40.815</td>\n",
       "      <td>2.701</td>\n",
       "      <td>1.729</td>\n",
       "      <td>68.830</td>\n",
       "      <td>0.639</td>\n",
       "      <td>0.212</td>\n",
       "      <td>0.589</td>\n",
       "      <td>0.154</td>\n",
       "      <td>0.608</td>\n",
       "      <td>0.149</td>\n",
       "      <td>0.977</td>\n",
       "      <td>0.006</td>\n",
       "      <td>1.000</td>\n",
       "    </tr>\n",
       "    <tr>\n",
       "      <th>75%</th>\n",
       "      <td>5.274312e+16</td>\n",
       "      <td>81.773</td>\n",
       "      <td>7.000</td>\n",
       "      <td>2.815400e+13</td>\n",
       "      <td>52.637</td>\n",
       "      <td>6.194</td>\n",
       "      <td>3.771</td>\n",
       "      <td>79.747</td>\n",
       "      <td>0.789</td>\n",
       "      <td>0.316</td>\n",
       "      <td>1.000</td>\n",
       "      <td>0.317</td>\n",
       "      <td>1.000</td>\n",
       "      <td>0.312</td>\n",
       "      <td>1.000</td>\n",
       "      <td>0.285</td>\n",
       "      <td>1.000</td>\n",
       "    </tr>\n",
       "    <tr>\n",
       "      <th>max</th>\n",
       "      <td>7.174468e+16</td>\n",
       "      <td>89.990</td>\n",
       "      <td>38.000</td>\n",
       "      <td>3.944385e+14</td>\n",
       "      <td>85.090</td>\n",
       "      <td>59.343</td>\n",
       "      <td>28.747</td>\n",
       "      <td>89.990</td>\n",
       "      <td>0.955</td>\n",
       "      <td>0.725</td>\n",
       "      <td>1.000</td>\n",
       "      <td>0.929</td>\n",
       "      <td>1.000</td>\n",
       "      <td>0.928</td>\n",
       "      <td>1.000</td>\n",
       "      <td>0.928</td>\n",
       "      <td>1.000</td>\n",
       "    </tr>\n",
       "  </tbody>\n",
       "</table>\n",
       "</div>"
      ],
      "text/plain": [
       "             Id_tse  sum_over1  Num_holders     MarketCap  Largest_Owner  \\\n",
       "count  3.740000e+02    374.000      374.000  5.300000e+01        374.000   \n",
       "mean   3.617226e+16     67.680        5.936  2.588607e+13         40.098   \n",
       "std    2.044339e+16     18.444        4.074  5.575595e+13         19.269   \n",
       "min    4.089344e+14      6.980        3.000  1.640811e+12          2.600   \n",
       "25%    1.809666e+16     57.732        4.000  7.049370e+12         22.577   \n",
       "50%    3.689308e+16     72.605        5.000  1.160100e+13         40.815   \n",
       "75%    5.274312e+16     81.773        7.000  2.815400e+13         52.637   \n",
       "max    7.174468e+16     89.990       38.000  3.944385e+14         85.090   \n",
       "\n",
       "       First_Second  First_Sumtwofour  Sumfive     Gini  Herfindhal     SSCL  \\\n",
       "count       374.000           374.000  374.000  374.000     374.000  374.000   \n",
       "mean          5.953             3.254   64.059    0.625       0.231    0.611   \n",
       "std           8.306             4.101   19.587    0.197       0.157    0.346   \n",
       "min           1.000             0.333    6.980    0.063       0.002    0.026   \n",
       "25%           1.620             0.880   52.440    0.497       0.100    0.271   \n",
       "50%           2.701             1.729   68.830    0.639       0.212    0.589   \n",
       "75%           6.194             3.771   79.747    0.789       0.316    1.000   \n",
       "max          59.343            28.747   89.990    0.955       0.725    1.000   \n",
       "\n",
       "          SSCO     SSDL     SSDO     BZCL     BZCO     BZDL  \n",
       "count  364.000  367.000  367.000  374.000  374.000  374.000  \n",
       "mean     0.207    0.623    0.202    0.679    0.165    0.792  \n",
       "std      0.229    0.343    0.228    0.361    0.227    0.305  \n",
       "min      0.000    0.027    0.000    0.026    0.000    0.062  \n",
       "25%      0.000    0.288    0.000    0.318    0.000    0.500  \n",
       "50%      0.154    0.608    0.149    0.977    0.006    1.000  \n",
       "75%      0.317    1.000    0.312    1.000    0.285    1.000  \n",
       "max      0.929    1.000    0.928    1.000    0.928    1.000  "
      ]
     },
     "execution_count": 24,
     "metadata": {},
     "output_type": "execute_result"
    }
   ],
   "source": [
    "np.round(CMdf.describe(),3)"
   ]
  },
  {
   "cell_type": "code",
   "execution_count": 27,
   "metadata": {},
   "outputs": [
    {
     "data": {
      "text/html": [
       "<div>\n",
       "<style scoped>\n",
       "    .dataframe tbody tr th:only-of-type {\n",
       "        vertical-align: middle;\n",
       "    }\n",
       "\n",
       "    .dataframe tbody tr th {\n",
       "        vertical-align: top;\n",
       "    }\n",
       "\n",
       "    .dataframe thead th {\n",
       "        text-align: right;\n",
       "    }\n",
       "</style>\n",
       "<table border=\"1\" class=\"dataframe\">\n",
       "  <thead>\n",
       "    <tr style=\"text-align: right;\">\n",
       "      <th></th>\n",
       "      <th>Symbol</th>\n",
       "      <th>Id_tse</th>\n",
       "      <th>sum_over1</th>\n",
       "      <th>Num_holders</th>\n",
       "      <th>MarketCap</th>\n",
       "      <th>Largest_Owner</th>\n",
       "      <th>First_Second</th>\n",
       "      <th>First_Sumtwofour</th>\n",
       "      <th>Sumfive</th>\n",
       "      <th>Gini</th>\n",
       "      <th>Herfindhal</th>\n",
       "      <th>SSCL</th>\n",
       "      <th>SSCO</th>\n",
       "      <th>SSDL</th>\n",
       "      <th>SSDO</th>\n",
       "      <th>BZCL</th>\n",
       "      <th>BZCO</th>\n",
       "      <th>BZDL</th>\n",
       "    </tr>\n",
       "  </thead>\n",
       "  <tbody>\n",
       "    <tr>\n",
       "      <th>21</th>\n",
       "      <td>بمپنا</td>\n",
       "      <td>39807886630843041</td>\n",
       "      <td>7.59</td>\n",
       "      <td>4</td>\n",
       "      <td>NaN</td>\n",
       "      <td>2.60</td>\n",
       "      <td>1.268293</td>\n",
       "      <td>0.521042</td>\n",
       "      <td>7.59</td>\n",
       "      <td>0.185771</td>\n",
       "      <td>0.001532</td>\n",
       "      <td>0.026420</td>\n",
       "      <td>0.923518</td>\n",
       "      <td>0.026669</td>\n",
       "      <td>0.922627</td>\n",
       "      <td>0.026489</td>\n",
       "      <td>0.923344</td>\n",
       "      <td>0.5</td>\n",
       "    </tr>\n",
       "    <tr>\n",
       "      <th>269</th>\n",
       "      <td>وتوس</td>\n",
       "      <td>68117765376081366</td>\n",
       "      <td>6.98</td>\n",
       "      <td>3</td>\n",
       "      <td>NaN</td>\n",
       "      <td>3.85</td>\n",
       "      <td>2.264706</td>\n",
       "      <td>1.230032</td>\n",
       "      <td>6.98</td>\n",
       "      <td>0.346705</td>\n",
       "      <td>0.001976</td>\n",
       "      <td>0.039633</td>\n",
       "      <td>0.929069</td>\n",
       "      <td>0.040020</td>\n",
       "      <td>0.928240</td>\n",
       "      <td>0.040319</td>\n",
       "      <td>0.928318</td>\n",
       "      <td>1.0</td>\n",
       "    </tr>\n",
       "  </tbody>\n",
       "</table>\n",
       "</div>"
      ],
      "text/plain": [
       "    Symbol             Id_tse  sum_over1  Num_holders  MarketCap  \\\n",
       "21   بمپنا  39807886630843041       7.59            4        NaN   \n",
       "269   وتوس  68117765376081366       6.98            3        NaN   \n",
       "\n",
       "     Largest_Owner  First_Second  First_Sumtwofour  Sumfive      Gini  \\\n",
       "21            2.60      1.268293          0.521042     7.59  0.185771   \n",
       "269           3.85      2.264706          1.230032     6.98  0.346705   \n",
       "\n",
       "     Herfindhal      SSCL      SSCO      SSDL      SSDO      BZCL      BZCO  \\\n",
       "21     0.001532  0.026420  0.923518  0.026669  0.922627  0.026489  0.923344   \n",
       "269    0.001976  0.039633  0.929069  0.040020  0.928240  0.040319  0.928318   \n",
       "\n",
       "     BZDL  \n",
       "21    0.5  \n",
       "269   1.0  "
      ]
     },
     "execution_count": 27,
     "metadata": {},
     "output_type": "execute_result"
    }
   ],
   "source": [
    "CMdf[CMdf.SSDO>0.9]"
   ]
  },
  {
   "cell_type": "code",
   "execution_count": null,
   "metadata": {},
   "outputs": [],
   "source": []
  }
 ],
 "metadata": {
  "kernelspec": {
   "display_name": "Python 3",
   "language": "python",
   "name": "python3"
  },
  "language_info": {
   "codemirror_mode": {
    "name": "ipython",
    "version": 3
   },
   "file_extension": ".py",
   "mimetype": "text/x-python",
   "name": "python",
   "nbconvert_exporter": "python",
   "pygments_lexer": "ipython3",
   "version": "3.7.6"
  },
  "varInspector": {
   "cols": {
    "lenName": 16,
    "lenType": 16,
    "lenVar": 40
   },
   "kernels_config": {
    "python": {
     "delete_cmd_postfix": "",
     "delete_cmd_prefix": "del ",
     "library": "var_list.py",
     "varRefreshCmd": "print(var_dic_list())"
    },
    "r": {
     "delete_cmd_postfix": ") ",
     "delete_cmd_prefix": "rm(",
     "library": "var_list.r",
     "varRefreshCmd": "cat(var_dic_list()) "
    }
   },
   "types_to_exclude": [
    "module",
    "function",
    "builtin_function_or_method",
    "instance",
    "_Feature"
   ],
   "window_display": false
  }
 },
 "nbformat": 4,
 "nbformat_minor": 4
}
