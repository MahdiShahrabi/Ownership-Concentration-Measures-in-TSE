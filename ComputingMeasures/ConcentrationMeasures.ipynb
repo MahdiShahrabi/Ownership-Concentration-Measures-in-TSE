{
 "cells": [
  {
   "cell_type": "code",
   "execution_count": 23,
   "metadata": {},
   "outputs": [],
   "source": [
    "## Loading Libraries\n",
    "import pandas as pd\n",
    "import numpy as np\n",
    "import sys\n",
    "import jdatetime as jd\n",
    "import os\n",
    "import matplotlib.pyplot as plt \n",
    "from IPython.core.interactiveshell import InteractiveShell\n",
    "InteractiveShell.ast_node_interactivity = \"all\""
   ]
  },
  {
   "cell_type": "code",
   "execution_count": 26,
   "metadata": {},
   "outputs": [],
   "source": [
    "## Loading DATA\n",
    "os.chdir(r\"C:\\Users\\Mahdi\\OneDrive\\Master Thesis\\Data\")\n",
    "SDATA = pd.read_csv(\"Shareholder97.csv\",index_col=0)\n",
    "\n",
    "# Conver date from string to jdatetime\n",
    "SDATA['True_Date'] = pd.to_datetime(SDATA['True_Date'], format='%Y-%m-%d')\n",
    "G = SDATA.True_Date.drop_duplicates()\n",
    "J = G.apply(lambda x: jd.date.fromgregorian(day=x.day,month=x.month,year=x.year))\n",
    "DataOrg_date_GtoJ_dict = dict(zip(G,J))\n",
    "SDATA['Jalali_Date']=SDATA.True_Date.map(DataOrg_date_GtoJ_dict)\n",
    "\n",
    "SDATA.drop(columns=['Shareholder_raw', 'High', 'Low', 'Open', 'Last', 'Volume', 'close',\n",
    "       'True_Date', 'year', 'month', 'day', 'Fill_Flag_HOLDER',\n",
    "       'Fill_Flag_PRICE', 'Unadjusted_Close','chnk_id'],inplace=True)"
   ]
  },
  {
   "cell_type": "code",
   "execution_count": 27,
   "metadata": {},
   "outputs": [],
   "source": [
    "# Creating Dataframe for saving concentration mearsurs\n",
    "CMdf = pd.DataFrame(data={'Symbol':SDATA.Symbol.drop_duplicates()})\n",
    "CMdf.reset_index(drop=True,inplace=True)"
   ]
  },
  {
   "cell_type": "markdown",
   "metadata": {},
   "source": [
    "# **Concentration Measures**"
   ]
  },
  {
   "cell_type": "markdown",
   "metadata": {},
   "source": [
    "## 1- Largest Owner"
   ]
  },
  {
   "cell_type": "code",
   "execution_count": 39,
   "metadata": {},
   "outputs": [],
   "source": [
    "temp = SDATA.groupby('Symbol',as_index=False).agg({'percent':'max'}).rename(columns={'percent':'Largest_Owner'})\n",
    "CMdf = pd.merge(CMdf,temp,left_on='Symbol',right_on='Symbol',how='left')"
   ]
  },
  {
   "cell_type": "markdown",
   "metadata": {},
   "source": [
    "## 2- First/Second"
   ]
  },
  {
   "cell_type": "code",
   "execution_count": null,
   "metadata": {},
   "outputs": [],
   "source": []
  }
 ],
 "metadata": {
  "kernelspec": {
   "display_name": "Python 3",
   "language": "python",
   "name": "python3"
  },
  "language_info": {
   "codemirror_mode": {
    "name": "ipython",
    "version": 3
   },
   "file_extension": ".py",
   "mimetype": "text/x-python",
   "name": "python",
   "nbconvert_exporter": "python",
   "pygments_lexer": "ipython3",
   "version": "3.7.1"
  },
  "varInspector": {
   "cols": {
    "lenName": 16,
    "lenType": 16,
    "lenVar": 40
   },
   "kernels_config": {
    "python": {
     "delete_cmd_postfix": "",
     "delete_cmd_prefix": "del ",
     "library": "var_list.py",
     "varRefreshCmd": "print(var_dic_list())"
    },
    "r": {
     "delete_cmd_postfix": ") ",
     "delete_cmd_prefix": "rm(",
     "library": "var_list.r",
     "varRefreshCmd": "cat(var_dic_list()) "
    }
   },
   "types_to_exclude": [
    "module",
    "function",
    "builtin_function_or_method",
    "instance",
    "_Feature"
   ],
   "window_display": false
  }
 },
 "nbformat": 4,
 "nbformat_minor": 4
}
