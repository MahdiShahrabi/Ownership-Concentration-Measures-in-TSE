{
 "cells": [
  {
   "cell_type": "code",
   "execution_count": 23,
   "metadata": {},
   "outputs": [],
   "source": [
    "## Loading Libraries\n",
    "import pandas as pd\n",
    "import numpy as np\n",
    "import sys\n",
    "import jdatetime as jd\n",
    "import os\n",
    "import matplotlib.pyplot as plt \n",
    "from IPython.core.interactiveshell import InteractiveShell\n",
    "InteractiveShell.ast_node_interactivity = \"all\""
   ]
  },
  {
   "cell_type": "code",
   "execution_count": 238,
   "metadata": {},
   "outputs": [],
   "source": [
    "## Loading DATA\n",
    "os.chdir(r\"C:\\Users\\Mahdi\\OneDrive\\Master Thesis\\Data\")\n",
    "SDATA = pd.read_csv(\"Shareholder97.csv\",index_col=0)\n",
    "\n",
    "# Conver date from string to jdatetime\n",
    "SDATA['True_Date'] = pd.to_datetime(SDATA['True_Date'], format='%Y-%m-%d')\n",
    "G = SDATA.True_Date.drop_duplicates()\n",
    "J = G.apply(lambda x: jd.date.fromgregorian(day=x.day,month=x.month,year=x.year))\n",
    "DataOrg_date_GtoJ_dict = dict(zip(G,J))\n",
    "SDATA['Jalali_Date']=SDATA.True_Date.map(DataOrg_date_GtoJ_dict)\n",
    "\n",
    "SDATA.drop(columns=['Shareholder_raw', 'High', 'Low', 'Open', 'Last', 'Volume', 'close',\n",
    "       'True_Date', 'year', 'month', 'day', 'Fill_Flag_HOLDER',\n",
    "       'Fill_Flag_PRICE', 'Unadjusted_Close','chnk_id'],inplace=True)"
   ]
  },
  {
   "cell_type": "code",
   "execution_count": 340,
   "metadata": {},
   "outputs": [],
   "source": [
    "# Creating Dataframe for saving concentration mearsurs\n",
    "CMdf = SDATA.groupby('Symbol',as_index=False).agg({'Id_tse':'first','ShareHolder':'count'}).rename(columns={'ShareHolder':'Num_holders'})\n",
    "CMdf.reset_index(drop=True,inplace=True)"
   ]
  },
  {
   "cell_type": "markdown",
   "metadata": {},
   "source": [
    "# **Concentration Measures**"
   ]
  },
  {
   "cell_type": "markdown",
   "metadata": {},
   "source": [
    "## 1- Largest Owner"
   ]
  },
  {
   "cell_type": "code",
   "execution_count": 341,
   "metadata": {},
   "outputs": [],
   "source": [
    "temp = SDATA.groupby('Symbol',as_index=False).agg({'percent':'max'}).rename(columns={'percent':'Largest_Owner'})\n",
    "CMdf = pd.merge(CMdf,temp,left_on='Symbol',right_on='Symbol',how='left')"
   ]
  },
  {
   "cell_type": "markdown",
   "metadata": {},
   "source": [
    "## 2- First/Second"
   ]
  },
  {
   "cell_type": "code",
   "execution_count": 342,
   "metadata": {},
   "outputs": [],
   "source": [
    "def nth_max(data,nth=1,interval=False):\n",
    "    data = data.sort_values(ascending=False)\n",
    "    if interval:\n",
    "        return(np.round(data.iloc[min(nth[0]-1,len(data)-1):min(nth[1],len(data))],2))\n",
    "    else:\n",
    "        return(np.round(data.iloc[min(nth-1,len(data)-1)],2))"
   ]
  },
  {
   "cell_type": "code",
   "execution_count": 343,
   "metadata": {},
   "outputs": [],
   "source": [
    "temp = SDATA.groupby('Symbol',as_index=False).agg({'percent':{lambda x: max(x)/nth_max(x,nth=2,interval=False)}}).rename(columns={'percent':'First_Second'})\n",
    "CMdf = pd.merge(CMdf,temp,left_on='Symbol',right_on='Symbol',how='left').rename(columns={('First_Second', '<lambda>'):'First_Second'})"
   ]
  },
  {
   "cell_type": "markdown",
   "metadata": {},
   "source": [
    "## 3- First/Sumtwofour"
   ]
  },
  {
   "cell_type": "code",
   "execution_count": 344,
   "metadata": {},
   "outputs": [],
   "source": [
    "temp = SDATA.groupby('Symbol',as_index=False).agg({'percent':{lambda x: max(x)/sum(nth_max(x,nth=[2,4],interval=True))}}).rename(columns={'percent':'First_Sumtwofour'})\n",
    "CMdf = pd.merge(CMdf,temp,left_on='Symbol',right_on='Symbol',how='left').rename(columns={('First_Sumtwofour', '<lambda>'):'First_Sumtwofour'})"
   ]
  },
  {
   "cell_type": "markdown",
   "metadata": {},
   "source": [
    "## 4- Sumfive"
   ]
  },
  {
   "cell_type": "code",
   "execution_count": 345,
   "metadata": {},
   "outputs": [],
   "source": [
    "temp = SDATA.groupby('Symbol',as_index=False).agg({'percent':{lambda x: sum(nth_max(x,nth=[1,5],interval=True))/100}}).rename(columns={'percent':'Sumfive'})\n",
    "CMdf = pd.merge(CMdf,temp,left_on='Symbol',right_on='Symbol',how='left').rename(columns={('Sumfive', '<lambda>'):'Sumfive'})"
   ]
  },
  {
   "cell_type": "markdown",
   "metadata": {},
   "source": [
    "## 5- Gini"
   ]
  },
  {
   "cell_type": "markdown",
   "metadata": {},
   "source": [
    "We calculate gini coeficient using Deaton 1997:\n",
    "$$ \\gamma = \\frac{N+1}{N-1} - \\frac{2}{\\mu\\times N\\times(N-1)}\\sum_{i=1}^N{\\rho_ix_i}$$"
   ]
  },
  {
   "cell_type": "code",
   "execution_count": 346,
   "metadata": {},
   "outputs": [],
   "source": [
    "def gini(data):\n",
    "    data.sort(reverse = True)\n",
    "    N = len(data)\n",
    "    mu = np.mean(data)\n",
    "    ser = [(i+1)*data[i] for i in range(len(data))]\n",
    "    try:\n",
    "        gamma = (N+1)/(N-1)-(2*sum(ser))/(mu*N*(N-1))\n",
    "    except:\n",
    "        gamma = 0\n",
    "    return(gamma)"
   ]
  },
  {
   "cell_type": "code",
   "execution_count": 347,
   "metadata": {},
   "outputs": [],
   "source": [
    "temp = SDATA.groupby('Symbol',as_index=False).agg({'percent':{lambda x: gini(list(x))}}).rename(columns={'percent':'Gini'})\n",
    "CMdf = pd.merge(CMdf,temp,left_on='Symbol',right_on='Symbol',how='left').rename(columns={('Gini', '<lambda>'):'Gini'})"
   ]
  },
  {
   "cell_type": "markdown",
   "metadata": {},
   "source": [
    "## 6- Herfindhal"
   ]
  },
  {
   "cell_type": "code",
   "execution_count": 348,
   "metadata": {},
   "outputs": [],
   "source": [
    "temp = SDATA.groupby('Symbol',as_index=False).agg({'percent':{lambda x: sum([(t/100)**2 for t in list(x)])}}).rename(columns={'percent':'Herfindhal'})\n",
    "CMdf = pd.merge(CMdf,temp,left_on='Symbol',right_on='Symbol',how='left').rename(columns={('Herfindhal', '<lambda>'):'Herfindhal'})"
   ]
  },
  {
   "cell_type": "markdown",
   "metadata": {},
   "source": [
    "## 7-Shapley-Shubik"
   ]
  },
  {
   "cell_type": "code",
   "execution_count": 349,
   "metadata": {},
   "outputs": [
    {
     "data": {
      "text/html": [
       "<div>\n",
       "<style scoped>\n",
       "    .dataframe tbody tr th:only-of-type {\n",
       "        vertical-align: middle;\n",
       "    }\n",
       "\n",
       "    .dataframe tbody tr th {\n",
       "        vertical-align: top;\n",
       "    }\n",
       "\n",
       "    .dataframe thead th {\n",
       "        text-align: right;\n",
       "    }\n",
       "</style>\n",
       "<table border=\"1\" class=\"dataframe\">\n",
       "  <thead>\n",
       "    <tr style=\"text-align: right;\">\n",
       "      <th></th>\n",
       "      <th>Symbol</th>\n",
       "      <th>Id_tse</th>\n",
       "      <th>Num_holders</th>\n",
       "      <th>Largest_Owner</th>\n",
       "      <th>First_Second</th>\n",
       "      <th>First_Sumtwofour</th>\n",
       "      <th>Sumfive</th>\n",
       "      <th>Gini</th>\n",
       "      <th>Herfindhal</th>\n",
       "    </tr>\n",
       "  </thead>\n",
       "  <tbody>\n",
       "    <tr>\n",
       "      <td>0</td>\n",
       "      <td>اعتضاد غدیر</td>\n",
       "      <td>34973883374080119</td>\n",
       "      <td>1</td>\n",
       "      <td>99.89</td>\n",
       "      <td>1.000000</td>\n",
       "      <td>1.000000</td>\n",
       "      <td>0.9989</td>\n",
       "      <td>0.000000</td>\n",
       "      <td>0.997801</td>\n",
       "    </tr>\n",
       "    <tr>\n",
       "      <td>1</td>\n",
       "      <td>کاغذ مراغه</td>\n",
       "      <td>21383339313241074</td>\n",
       "      <td>1</td>\n",
       "      <td>51.53</td>\n",
       "      <td>1.000000</td>\n",
       "      <td>1.000000</td>\n",
       "      <td>0.5153</td>\n",
       "      <td>0.000000</td>\n",
       "      <td>0.265534</td>\n",
       "    </tr>\n",
       "    <tr>\n",
       "      <td>2</td>\n",
       "      <td>آ س پ</td>\n",
       "      <td>17617474823279712</td>\n",
       "      <td>5</td>\n",
       "      <td>40.26</td>\n",
       "      <td>1.963902</td>\n",
       "      <td>0.912925</td>\n",
       "      <td>0.8920</td>\n",
       "      <td>0.464462</td>\n",
       "      <td>0.236507</td>\n",
       "    </tr>\n",
       "    <tr>\n",
       "      <td>3</td>\n",
       "      <td>آتیمس</td>\n",
       "      <td>22839330962768817</td>\n",
       "      <td>1</td>\n",
       "      <td>98.98</td>\n",
       "      <td>1.000000</td>\n",
       "      <td>1.000000</td>\n",
       "      <td>0.9898</td>\n",
       "      <td>0.000000</td>\n",
       "      <td>0.979704</td>\n",
       "    </tr>\n",
       "    <tr>\n",
       "      <td>4</td>\n",
       "      <td>آرمان</td>\n",
       "      <td>38738476064699383</td>\n",
       "      <td>10</td>\n",
       "      <td>19.78</td>\n",
       "      <td>1.163529</td>\n",
       "      <td>0.444395</td>\n",
       "      <td>0.7211</td>\n",
       "      <td>0.409145</td>\n",
       "      <td>0.120921</td>\n",
       "    </tr>\n",
       "    <tr>\n",
       "      <td>...</td>\n",
       "      <td>...</td>\n",
       "      <td>...</td>\n",
       "      <td>...</td>\n",
       "      <td>...</td>\n",
       "      <td>...</td>\n",
       "      <td>...</td>\n",
       "      <td>...</td>\n",
       "      <td>...</td>\n",
       "      <td>...</td>\n",
       "    </tr>\n",
       "    <tr>\n",
       "      <td>600</td>\n",
       "      <td>گنگین</td>\n",
       "      <td>59470107928175959</td>\n",
       "      <td>2</td>\n",
       "      <td>79.25</td>\n",
       "      <td>3.962500</td>\n",
       "      <td>3.962500</td>\n",
       "      <td>0.9925</td>\n",
       "      <td>0.596977</td>\n",
       "      <td>0.668056</td>\n",
       "    </tr>\n",
       "    <tr>\n",
       "      <td>601</td>\n",
       "      <td>گوهران</td>\n",
       "      <td>65018804181564924</td>\n",
       "      <td>1</td>\n",
       "      <td>94.14</td>\n",
       "      <td>1.000000</td>\n",
       "      <td>1.000000</td>\n",
       "      <td>0.9414</td>\n",
       "      <td>0.000000</td>\n",
       "      <td>0.886234</td>\n",
       "    </tr>\n",
       "    <tr>\n",
       "      <td>602</td>\n",
       "      <td>گپارس</td>\n",
       "      <td>59848307608894801</td>\n",
       "      <td>4</td>\n",
       "      <td>20.90</td>\n",
       "      <td>3.181126</td>\n",
       "      <td>2.279171</td>\n",
       "      <td>0.3007</td>\n",
       "      <td>0.716439</td>\n",
       "      <td>0.048351</td>\n",
       "    </tr>\n",
       "    <tr>\n",
       "      <td>603</td>\n",
       "      <td>گکوثر</td>\n",
       "      <td>66599109405217136</td>\n",
       "      <td>4</td>\n",
       "      <td>46.00</td>\n",
       "      <td>1.380138</td>\n",
       "      <td>1.099952</td>\n",
       "      <td>0.8782</td>\n",
       "      <td>0.586275</td>\n",
       "      <td>0.326294</td>\n",
       "    </tr>\n",
       "    <tr>\n",
       "      <td>604</td>\n",
       "      <td>گکیش</td>\n",
       "      <td>44665761767777759</td>\n",
       "      <td>1</td>\n",
       "      <td>68.25</td>\n",
       "      <td>1.000000</td>\n",
       "      <td>1.000000</td>\n",
       "      <td>0.6825</td>\n",
       "      <td>0.000000</td>\n",
       "      <td>0.465806</td>\n",
       "    </tr>\n",
       "  </tbody>\n",
       "</table>\n",
       "<p>605 rows × 9 columns</p>\n",
       "</div>"
      ],
      "text/plain": [
       "           Symbol             Id_tse  Num_holders  Largest_Owner  \\\n",
       "0     اعتضاد غدیر  34973883374080119            1          99.89   \n",
       "1      کاغذ مراغه  21383339313241074            1          51.53   \n",
       "2           آ س پ  17617474823279712            5          40.26   \n",
       "3           آتیمس  22839330962768817            1          98.98   \n",
       "4           آرمان  38738476064699383           10          19.78   \n",
       "..            ...                ...          ...            ...   \n",
       "600         گنگین  59470107928175959            2          79.25   \n",
       "601        گوهران  65018804181564924            1          94.14   \n",
       "602         گپارس  59848307608894801            4          20.90   \n",
       "603         گکوثر  66599109405217136            4          46.00   \n",
       "604          گکیش  44665761767777759            1          68.25   \n",
       "\n",
       "     First_Second  First_Sumtwofour  Sumfive      Gini  Herfindhal  \n",
       "0        1.000000          1.000000   0.9989  0.000000    0.997801  \n",
       "1        1.000000          1.000000   0.5153  0.000000    0.265534  \n",
       "2        1.963902          0.912925   0.8920  0.464462    0.236507  \n",
       "3        1.000000          1.000000   0.9898  0.000000    0.979704  \n",
       "4        1.163529          0.444395   0.7211  0.409145    0.120921  \n",
       "..            ...               ...      ...       ...         ...  \n",
       "600      3.962500          3.962500   0.9925  0.596977    0.668056  \n",
       "601      1.000000          1.000000   0.9414  0.000000    0.886234  \n",
       "602      3.181126          2.279171   0.3007  0.716439    0.048351  \n",
       "603      1.380138          1.099952   0.8782  0.586275    0.326294  \n",
       "604      1.000000          1.000000   0.6825  0.000000    0.465806  \n",
       "\n",
       "[605 rows x 9 columns]"
      ]
     },
     "execution_count": 349,
     "metadata": {},
     "output_type": "execute_result"
    }
   ],
   "source": [
    "CMdf"
   ]
  },
  {
   "cell_type": "code",
   "execution_count": null,
   "metadata": {},
   "outputs": [],
   "source": []
  }
 ],
 "metadata": {
  "kernelspec": {
   "display_name": "Python 3",
   "language": "python",
   "name": "python3"
  },
  "language_info": {
   "codemirror_mode": {
    "name": "ipython",
    "version": 3
   },
   "file_extension": ".py",
   "mimetype": "text/x-python",
   "name": "python",
   "nbconvert_exporter": "python",
   "pygments_lexer": "ipython3",
   "version": "3.7.1"
  },
  "varInspector": {
   "cols": {
    "lenName": 16,
    "lenType": 16,
    "lenVar": 40
   },
   "kernels_config": {
    "python": {
     "delete_cmd_postfix": "",
     "delete_cmd_prefix": "del ",
     "library": "var_list.py",
     "varRefreshCmd": "print(var_dic_list())"
    },
    "r": {
     "delete_cmd_postfix": ") ",
     "delete_cmd_prefix": "rm(",
     "library": "var_list.r",
     "varRefreshCmd": "cat(var_dic_list()) "
    }
   },
   "types_to_exclude": [
    "module",
    "function",
    "builtin_function_or_method",
    "instance",
    "_Feature"
   ],
   "window_display": false
  }
 },
 "nbformat": 4,
 "nbformat_minor": 4
}
