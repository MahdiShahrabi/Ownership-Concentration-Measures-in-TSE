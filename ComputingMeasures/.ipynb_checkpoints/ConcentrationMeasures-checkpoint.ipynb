{
 "cells": [
  {
   "cell_type": "code",
   "execution_count": 21,
   "metadata": {},
   "outputs": [],
   "source": [
    "## Loading Libraries\n",
    "import pandas as pd\n",
    "import numpy as np\n",
    "import sys\n",
    "import jdatetime as jd\n",
    "import os\n",
    "import pickle\n",
    "\n",
    "# import power_index_calculator as px\n",
    "from IPython.core.interactiveshell import InteractiveShell\n",
    "InteractiveShell.ast_node_interactivity = \"all\""
   ]
  },
  {
   "cell_type": "code",
   "execution_count": 22,
   "metadata": {},
   "outputs": [],
   "source": [
    "## Loading functions\n",
    "from convert_ar_characters import convert_ar_characters\n",
    "from ReadingBalancesheetData import read_blnc_data\n",
    "from nthMax import nth_max\n",
    "from gini import gini\n",
    "from find_shapley import find_shapley\n",
    "from find_banzhaf import find_banzhaf\n",
    "from gameTheoric_concentration import gameTheoric_concentration\n",
    "from fill_shapley_banzhaf import fill_shapley_banzhaf"
   ]
  },
  {
   "cell_type": "markdown",
   "metadata": {},
   "source": [
    "# **Loading Shareholder Data**"
   ]
  },
  {
   "cell_type": "code",
   "execution_count": 25,
   "metadata": {},
   "outputs": [],
   "source": [
    "## Loading DATA\n",
    "os.chdir(r\"C:\\Users\\Mahdi\\OneDrive\\Master Thesis\\Data\")\n",
    "SDATA = pd.read_csv(\"Shareholder1398.csv\",index_col=0)\n",
    "\n",
    "# Conver date from string to jdatetime\n",
    "SDATA['True_Date'] = pd.to_datetime(SDATA['True_Date'], format='%Y-%m-%d')\n",
    "G = SDATA.True_Date.drop_duplicates()\n",
    "J = G.apply(lambda x: jd.date.fromgregorian(day=x.day,month=x.month,year=x.year))\n",
    "DataOrg_date_GtoJ_dict = dict(zip(G,J))\n",
    "SDATA['Jalali_Date']=SDATA.True_Date.map(DataOrg_date_GtoJ_dict)\n",
    "\n",
    "SDATA.drop(columns=['High', 'Low', 'Open', 'Last', 'Volume', 'close',\n",
    "       'True_Date', 'year', 'month', 'day', 'Fill_Flag','Unadjusted_close','chnk_id'],inplace=True)"
   ]
  },
  {
   "cell_type": "code",
   "execution_count": 26,
   "metadata": {},
   "outputs": [
    {
     "name": "stdout",
     "output_type": "stream",
     "text": [
      "Number of Observation is:  655 \n",
      "\n",
      "122  is deleted becaause their sum_above1% is equalt to or more than  90 %\n",
      "159  is deleted becaause their number of holder is less or equal than  2\n",
      "\n",
      "Number of remained Observation is:  374\n"
     ]
    }
   ],
   "source": [
    "# Creating Dataframe for saving concentration mearsurs\n",
    "CMdf = SDATA.groupby('Symbol',as_index=False).agg({'Id_tse':'first','percent':'sum','ShareHolder':'count'}).rename(\n",
    "    columns={'ShareHolder':'Num_holders','percent':'sum_over1'})\n",
    "CMdf.reset_index(drop=True,inplace=True)\n",
    "\n",
    "print('Number of Observation is: ',len(CMdf),'\\n')\n",
    "\n",
    "## Filtering Data\n",
    "theta_sum1 = 90\n",
    "theta_holder = 2\n",
    "\n",
    "\n",
    "filtered = CMdf[CMdf.sum_over1>=theta_sum1]\n",
    "CMdf = CMdf[CMdf.sum_over1<=theta_sum1]\n",
    "print(len(filtered),' is deleted becaause their sum_above1% is equalt to or more than ',theta_sum1,'%')\n",
    "\n",
    "filtered = CMdf[CMdf.Num_holders<=theta_holder]\n",
    "CMdf = CMdf[CMdf.Num_holders>theta_holder]\n",
    "print(len(filtered),' is deleted becaause their number of holder is less or equal than ',theta_holder)\n",
    "\n",
    "print('\\nNumber of remained Observation is: ',len(CMdf))"
   ]
  },
  {
   "cell_type": "markdown",
   "metadata": {},
   "source": [
    "# **Concentration Measures**"
   ]
  },
  {
   "cell_type": "markdown",
   "metadata": {},
   "source": [
    "## 1- Largest Owner"
   ]
  },
  {
   "cell_type": "code",
   "execution_count": 27,
   "metadata": {},
   "outputs": [],
   "source": [
    "temp = SDATA.groupby('Symbol',as_index=False).agg({'percent':'max'}).rename(columns={'percent':'Largest_Owner'})\n",
    "CMdf = pd.merge(CMdf,temp,left_on='Symbol',right_on='Symbol',how='left')"
   ]
  },
  {
   "cell_type": "markdown",
   "metadata": {},
   "source": [
    "## 2- First/Second"
   ]
  },
  {
   "cell_type": "code",
   "execution_count": 28,
   "metadata": {},
   "outputs": [
    {
     "name": "stderr",
     "output_type": "stream",
     "text": [
      "C:\\Users\\Mahdi\\Anaconda3\\lib\\site-packages\\pandas\\core\\reshape\\merge.py:618: UserWarning: merging between different levels can give an unintended result (1 levels on the left, 2 on the right)\n",
      "  warnings.warn(msg, UserWarning)\n",
      "C:\\Users\\Mahdi\\Anaconda3\\lib\\site-packages\\pandas\\core\\generic.py:3936: PerformanceWarning: dropping on a non-lexsorted multi-index without a level parameter may impact performance.\n",
      "  obj = obj._drop_axis(labels, axis, level=level, errors=errors)\n"
     ]
    }
   ],
   "source": [
    "temp = SDATA.groupby('Symbol',as_index=False).agg({'percent':{lambda x: max(x)/nth_max(x,nth=2,interval=False)}}).rename(columns={'percent':'First_Second'})\n",
    "CMdf = pd.merge(CMdf,temp,left_on='Symbol',right_on='Symbol',how='left').rename(columns={('First_Second', '<lambda>'):'First_Second'})"
   ]
  },
  {
   "cell_type": "markdown",
   "metadata": {},
   "source": [
    "## 3- First/Sumtwofour"
   ]
  },
  {
   "cell_type": "code",
   "execution_count": 29,
   "metadata": {},
   "outputs": [],
   "source": [
    "temp = SDATA.groupby('Symbol',as_index=False).agg({'percent':{lambda x: max(x)/sum(nth_max(x,nth=[2,4],interval=True))}}).rename(\n",
    "    columns={'percent':'First_Sumtwofour'})\n",
    "CMdf = pd.merge(CMdf,temp,left_on='Symbol',right_on='Symbol',how='left').rename(columns={('First_Sumtwofour', '<lambda>'):'First_Sumtwofour'})"
   ]
  },
  {
   "cell_type": "markdown",
   "metadata": {},
   "source": [
    "## 4- Sumfive"
   ]
  },
  {
   "cell_type": "code",
   "execution_count": 30,
   "metadata": {},
   "outputs": [],
   "source": [
    "temp = SDATA.groupby('Symbol',as_index=False).agg({'percent':{lambda x: sum(nth_max(x,nth=[1,5],interval=True))}}).rename(columns={'percent':'Sumfive'})\n",
    "CMdf = pd.merge(CMdf,temp,left_on='Symbol',right_on='Symbol',how='left').rename(columns={('Sumfive', '<lambda>'):'Sumfive'})"
   ]
  },
  {
   "cell_type": "markdown",
   "metadata": {},
   "source": [
    "## 5- Gini"
   ]
  },
  {
   "cell_type": "markdown",
   "metadata": {},
   "source": [
    "We calculate gini coeficient using Deaton 1997:\n",
    "$$ \\gamma = \\frac{N+1}{N-1} - \\frac{2}{\\mu\\times N\\times(N-1)}\\sum_{i=1}^N{\\rho_ix_i}$$"
   ]
  },
  {
   "cell_type": "code",
   "execution_count": 31,
   "metadata": {},
   "outputs": [],
   "source": [
    "temp = SDATA.groupby('Symbol',as_index=False).agg({'percent':{lambda x: gini(list(x))}}).rename(columns={'percent':'Gini'})\n",
    "CMdf = pd.merge(CMdf,temp,left_on='Symbol',right_on='Symbol',how='left').rename(columns={('Gini', '<lambda>'):'Gini'})"
   ]
  },
  {
   "cell_type": "markdown",
   "metadata": {},
   "source": [
    "## 6- Herfindhal"
   ]
  },
  {
   "cell_type": "code",
   "execution_count": 32,
   "metadata": {},
   "outputs": [],
   "source": [
    "temp = SDATA.groupby('Symbol',as_index=False).agg({'percent':{lambda x: sum([(t/100)**2 for t in list(x)])}}).rename(columns={'percent':'Herfindhal'})\n",
    "CMdf = pd.merge(CMdf,temp,left_on='Symbol',right_on='Symbol',how='left').rename(columns={('Herfindhal', '<lambda>'):'Herfindhal'})"
   ]
  },
  {
   "cell_type": "markdown",
   "metadata": {},
   "source": [
    "## 7 & 8-Shapley-Shubik & Banzhaf"
   ]
  },
  {
   "cell_type": "code",
   "execution_count": 33,
   "metadata": {},
   "outputs": [],
   "source": [
    "# # Initiating columns\n",
    "# CMdf['SSCL'] = np.nan\n",
    "# CMdf['SSCO'] = np.nan\n",
    "# CMdf['SSDL'] = np.nan\n",
    "# CMdf['SSDO'] = np.nan\n",
    "# CMdf['BZCL'] = np.nan\n",
    "# CMdf['BZCO'] = np.nan\n",
    "# CMdf['BZDL'] = np.nan\n",
    "\n",
    "os.chdir(r\"C:\\Users\\Mahdi\\OneDrive\\Master Thesis\\Data\")\n",
    "CMdf_load = pd.read_csv('Measures1398.csv',index_col=0)\n",
    "\n",
    "CMdf = pd.merge(CMdf,CMdf_load[['Symbol','SSCL', 'SSCO', 'SSDL', 'SSDO', 'BZCL', 'BZCO', 'BZDL']],left_on='Symbol',right_on='Symbol',how='left')"
   ]
  },
  {
   "cell_type": "code",
   "execution_count": 34,
   "metadata": {},
   "outputs": [
    {
     "name": "stdout",
     "output_type": "stream",
     "text": [
      "The symbol  آریان  mode:  SSDL ,  1  from  7\n",
      "The symbol  تکالا  mode:  SSDL ,  2  from  7\n",
      "The symbol  سپرده  mode:  SSDL ,  3  from  7\n",
      "The symbol  وپارس  mode:  SSDL ,  4  from  7\n",
      "The symbol  وگردش  mode:  SSDL ,  5  from  7\n",
      "The symbol  کمند  mode:  SSDL ,  6  from  7\n",
      "The symbol  کیان  mode:  SSDL ,  7  from  7\n",
      "\n",
      "\n",
      "**About  0  out of  7  of mising cells are filled!\n",
      "len(Errors):  7\n",
      "Wall time: 7min 40s\n"
     ]
    },
    {
     "data": {
      "text/plain": [
       "[]"
      ]
     },
     "execution_count": 34,
     "metadata": {},
     "output_type": "execute_result"
    }
   ],
   "source": [
    "%%time\n",
    "data = fill_shapley_banzhaf(data = CMdf,SDATA=SDATA,fast_mode = True,time_pnt=True,major_thr = 10)\n",
    "CMdf = data['CMdf']\n",
    "\n",
    "print('len(Errors): ',len(data['Errors']))\n",
    "data['Errors']\n",
    "[x for x in data['Errors'] if x[2]!= 'Error: request error!']"
   ]
  },
  {
   "cell_type": "code",
   "execution_count": 35,
   "metadata": {},
   "outputs": [],
   "source": [
    "# CMdf.loc[CMdf['SSCO']==np.inf,'SSCO'] = np.nan\n",
    "# CMdf.loc[CMdf['Num_holders']==1,'First_Second'] = np.nan\n",
    "# CMdf.loc[CMdf['Num_holders']==2,'First_Sumtwofour'] = np.nan\n",
    "# CMdf.loc[CMdf['Num_holders']==1,'Gini'] = np.nan\n",
    "\n",
    "os.chdir(r\"C:\\Users\\Mahdi\\OneDrive\\Master Thesis\\Data\")\n",
    "CMdf.to_csv('Measures1398.csv')"
   ]
  },
  {
   "cell_type": "markdown",
   "metadata": {},
   "source": [
    "# **Loading Balancesheet Data and Merging**"
   ]
  },
  {
   "cell_type": "code",
   "execution_count": 37,
   "metadata": {},
   "outputs": [],
   "source": [
    "blnc_data = read_blnc_data(file='98.txt')\n",
    "blnc_data['book_value'] = blnc_data.Tot_asset-blnc_data.Tot_lib\n",
    "blnc_data = blnc_data[blnc_data.book_value>0]"
   ]
  },
  {
   "cell_type": "code",
   "execution_count": 38,
   "metadata": {},
   "outputs": [],
   "source": [
    "data_out = pd.merge(CMdf,blnc_data[['Symbol','Tot_asset', 'Tot_lib', 'Capital', 'Equity_at_year_end','Debt_Equity', 'Debt_Equity_normal', 'book_value']]\n",
    "                    ,left_on='Symbol',right_on='Symbol',how='outer')\n",
    "\n",
    "os.chdir(r\"C:\\Users\\Mahdi\\OneDrive\\Master Thesis\\Data\")\n",
    "data_out.to_csv('data_owenership96_blnc96.csv')"
   ]
  },
  {
   "cell_type": "code",
   "execution_count": 39,
   "metadata": {},
   "outputs": [
    {
     "data": {
      "text/html": [
       "<div>\n",
       "<style scoped>\n",
       "    .dataframe tbody tr th:only-of-type {\n",
       "        vertical-align: middle;\n",
       "    }\n",
       "\n",
       "    .dataframe tbody tr th {\n",
       "        vertical-align: top;\n",
       "    }\n",
       "\n",
       "    .dataframe thead th {\n",
       "        text-align: right;\n",
       "    }\n",
       "</style>\n",
       "<table border=\"1\" class=\"dataframe\">\n",
       "  <thead>\n",
       "    <tr style=\"text-align: right;\">\n",
       "      <th></th>\n",
       "      <th>Id_tse</th>\n",
       "      <th>sum_over1</th>\n",
       "      <th>Num_holders</th>\n",
       "      <th>Largest_Owner</th>\n",
       "      <th>First_Second</th>\n",
       "      <th>First_Sumtwofour</th>\n",
       "      <th>Sumfive</th>\n",
       "      <th>Gini</th>\n",
       "      <th>Herfindhal</th>\n",
       "      <th>SSCL</th>\n",
       "      <th>SSCO</th>\n",
       "      <th>BZCL</th>\n",
       "      <th>BZCO</th>\n",
       "      <th>BZDL</th>\n",
       "    </tr>\n",
       "  </thead>\n",
       "  <tbody>\n",
       "    <tr>\n",
       "      <th>count</th>\n",
       "      <td>3.740000e+02</td>\n",
       "      <td>374.000000</td>\n",
       "      <td>374.000000</td>\n",
       "      <td>374.000000</td>\n",
       "      <td>374.000000</td>\n",
       "      <td>374.000000</td>\n",
       "      <td>374.000000</td>\n",
       "      <td>374.000000</td>\n",
       "      <td>374.000000</td>\n",
       "      <td>374.000000</td>\n",
       "      <td>364.000000</td>\n",
       "      <td>374.000000</td>\n",
       "      <td>374.000000</td>\n",
       "      <td>374.000000</td>\n",
       "    </tr>\n",
       "    <tr>\n",
       "      <th>mean</th>\n",
       "      <td>3.617226e+16</td>\n",
       "      <td>67.679652</td>\n",
       "      <td>5.935829</td>\n",
       "      <td>40.097995</td>\n",
       "      <td>5.953157</td>\n",
       "      <td>3.254174</td>\n",
       "      <td>64.059037</td>\n",
       "      <td>0.625050</td>\n",
       "      <td>0.230831</td>\n",
       "      <td>0.610875</td>\n",
       "      <td>0.206562</td>\n",
       "      <td>0.678799</td>\n",
       "      <td>0.165092</td>\n",
       "      <td>0.791573</td>\n",
       "    </tr>\n",
       "    <tr>\n",
       "      <th>std</th>\n",
       "      <td>2.044339e+16</td>\n",
       "      <td>18.444443</td>\n",
       "      <td>4.073869</td>\n",
       "      <td>19.268815</td>\n",
       "      <td>8.306446</td>\n",
       "      <td>4.101041</td>\n",
       "      <td>19.587436</td>\n",
       "      <td>0.196502</td>\n",
       "      <td>0.156900</td>\n",
       "      <td>0.346114</td>\n",
       "      <td>0.229094</td>\n",
       "      <td>0.360593</td>\n",
       "      <td>0.226994</td>\n",
       "      <td>0.305309</td>\n",
       "    </tr>\n",
       "    <tr>\n",
       "      <th>min</th>\n",
       "      <td>4.089344e+14</td>\n",
       "      <td>6.980000</td>\n",
       "      <td>3.000000</td>\n",
       "      <td>2.600000</td>\n",
       "      <td>1.000000</td>\n",
       "      <td>0.333333</td>\n",
       "      <td>6.980000</td>\n",
       "      <td>0.063057</td>\n",
       "      <td>0.001532</td>\n",
       "      <td>0.026420</td>\n",
       "      <td>0.000000</td>\n",
       "      <td>0.026489</td>\n",
       "      <td>0.000000</td>\n",
       "      <td>0.061563</td>\n",
       "    </tr>\n",
       "    <tr>\n",
       "      <th>25%</th>\n",
       "      <td>1.809666e+16</td>\n",
       "      <td>57.732500</td>\n",
       "      <td>4.000000</td>\n",
       "      <td>22.577500</td>\n",
       "      <td>1.620062</td>\n",
       "      <td>0.879806</td>\n",
       "      <td>52.440000</td>\n",
       "      <td>0.497135</td>\n",
       "      <td>0.100466</td>\n",
       "      <td>0.270507</td>\n",
       "      <td>0.000000</td>\n",
       "      <td>0.317647</td>\n",
       "      <td>0.000000</td>\n",
       "      <td>0.500000</td>\n",
       "    </tr>\n",
       "    <tr>\n",
       "      <th>50%</th>\n",
       "      <td>3.689308e+16</td>\n",
       "      <td>72.605000</td>\n",
       "      <td>5.000000</td>\n",
       "      <td>40.815000</td>\n",
       "      <td>2.700570</td>\n",
       "      <td>1.728859</td>\n",
       "      <td>68.830000</td>\n",
       "      <td>0.638521</td>\n",
       "      <td>0.211738</td>\n",
       "      <td>0.589307</td>\n",
       "      <td>0.154428</td>\n",
       "      <td>0.976630</td>\n",
       "      <td>0.005916</td>\n",
       "      <td>1.000000</td>\n",
       "    </tr>\n",
       "    <tr>\n",
       "      <th>75%</th>\n",
       "      <td>5.274312e+16</td>\n",
       "      <td>81.772500</td>\n",
       "      <td>7.000000</td>\n",
       "      <td>52.637500</td>\n",
       "      <td>6.193702</td>\n",
       "      <td>3.771094</td>\n",
       "      <td>79.747500</td>\n",
       "      <td>0.788575</td>\n",
       "      <td>0.316278</td>\n",
       "      <td>1.000000</td>\n",
       "      <td>0.316849</td>\n",
       "      <td>1.000000</td>\n",
       "      <td>0.285310</td>\n",
       "      <td>1.000000</td>\n",
       "    </tr>\n",
       "    <tr>\n",
       "      <th>max</th>\n",
       "      <td>7.174468e+16</td>\n",
       "      <td>89.990000</td>\n",
       "      <td>38.000000</td>\n",
       "      <td>85.090000</td>\n",
       "      <td>59.343066</td>\n",
       "      <td>28.746622</td>\n",
       "      <td>89.990000</td>\n",
       "      <td>0.955026</td>\n",
       "      <td>0.724515</td>\n",
       "      <td>1.000000</td>\n",
       "      <td>0.929069</td>\n",
       "      <td>1.000000</td>\n",
       "      <td>0.928318</td>\n",
       "      <td>1.000000</td>\n",
       "    </tr>\n",
       "  </tbody>\n",
       "</table>\n",
       "</div>"
      ],
      "text/plain": [
       "             Id_tse   sum_over1  Num_holders  Largest_Owner  First_Second  \\\n",
       "count  3.740000e+02  374.000000   374.000000     374.000000    374.000000   \n",
       "mean   3.617226e+16   67.679652     5.935829      40.097995      5.953157   \n",
       "std    2.044339e+16   18.444443     4.073869      19.268815      8.306446   \n",
       "min    4.089344e+14    6.980000     3.000000       2.600000      1.000000   \n",
       "25%    1.809666e+16   57.732500     4.000000      22.577500      1.620062   \n",
       "50%    3.689308e+16   72.605000     5.000000      40.815000      2.700570   \n",
       "75%    5.274312e+16   81.772500     7.000000      52.637500      6.193702   \n",
       "max    7.174468e+16   89.990000    38.000000      85.090000     59.343066   \n",
       "\n",
       "       First_Sumtwofour     Sumfive        Gini  Herfindhal        SSCL  \\\n",
       "count        374.000000  374.000000  374.000000  374.000000  374.000000   \n",
       "mean           3.254174   64.059037    0.625050    0.230831    0.610875   \n",
       "std            4.101041   19.587436    0.196502    0.156900    0.346114   \n",
       "min            0.333333    6.980000    0.063057    0.001532    0.026420   \n",
       "25%            0.879806   52.440000    0.497135    0.100466    0.270507   \n",
       "50%            1.728859   68.830000    0.638521    0.211738    0.589307   \n",
       "75%            3.771094   79.747500    0.788575    0.316278    1.000000   \n",
       "max           28.746622   89.990000    0.955026    0.724515    1.000000   \n",
       "\n",
       "             SSCO        BZCL        BZCO        BZDL  \n",
       "count  364.000000  374.000000  374.000000  374.000000  \n",
       "mean     0.206562    0.678799    0.165092    0.791573  \n",
       "std      0.229094    0.360593    0.226994    0.305309  \n",
       "min      0.000000    0.026489    0.000000    0.061563  \n",
       "25%      0.000000    0.317647    0.000000    0.500000  \n",
       "50%      0.154428    0.976630    0.005916    1.000000  \n",
       "75%      0.316849    1.000000    0.285310    1.000000  \n",
       "max      0.929069    1.000000    0.928318    1.000000  "
      ]
     },
     "execution_count": 39,
     "metadata": {},
     "output_type": "execute_result"
    }
   ],
   "source": [
    "CMdf.describe()"
   ]
  }
 ],
 "metadata": {
  "kernelspec": {
   "display_name": "Python 3",
   "language": "python",
   "name": "python3"
  },
  "language_info": {
   "codemirror_mode": {
    "name": "ipython",
    "version": 3
   },
   "file_extension": ".py",
   "mimetype": "text/x-python",
   "name": "python",
   "nbconvert_exporter": "python",
   "pygments_lexer": "ipython3",
   "version": "3.7.6"
  },
  "varInspector": {
   "cols": {
    "lenName": 16,
    "lenType": 16,
    "lenVar": 40
   },
   "kernels_config": {
    "python": {
     "delete_cmd_postfix": "",
     "delete_cmd_prefix": "del ",
     "library": "var_list.py",
     "varRefreshCmd": "print(var_dic_list())"
    },
    "r": {
     "delete_cmd_postfix": ") ",
     "delete_cmd_prefix": "rm(",
     "library": "var_list.r",
     "varRefreshCmd": "cat(var_dic_list()) "
    }
   },
   "types_to_exclude": [
    "module",
    "function",
    "builtin_function_or_method",
    "instance",
    "_Feature"
   ],
   "window_display": false
  }
 },
 "nbformat": 4,
 "nbformat_minor": 4
}
