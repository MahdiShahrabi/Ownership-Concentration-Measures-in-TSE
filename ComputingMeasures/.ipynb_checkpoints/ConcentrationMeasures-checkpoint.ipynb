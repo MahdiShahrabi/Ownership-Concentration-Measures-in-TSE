{
 "cells": [
  {
   "cell_type": "code",
   "execution_count": 20,
   "metadata": {},
   "outputs": [],
   "source": [
    "## Loading Libraries\n",
    "import pandas as pd\n",
    "import numpy as np\n",
    "import sys\n",
    "import jdatetime as jd\n",
    "import os\n",
    "import matplotlib.pyplot as plt \n",
    "# import power_index_calculator as px\n",
    "from IPython.core.interactiveshell import InteractiveShell\n",
    "InteractiveShell.ast_node_interactivity = \"all\""
   ]
  },
  {
   "cell_type": "code",
   "execution_count": 22,
   "metadata": {},
   "outputs": [],
   "source": [
    "## Loading DATA\n",
    "os.chdir(r\"C:\\Users\\Mahdi\\OneDrive\\Master Thesis\\Data\")\n",
    "SDATA = pd.read_csv(\"Shareholder97.csv\",index_col=0)\n",
    "\n",
    "# Conver date from string to jdatetime\n",
    "SDATA['True_Date'] = pd.to_datetime(SDATA['True_Date'], format='%Y-%m-%d')\n",
    "G = SDATA.True_Date.drop_duplicates()\n",
    "J = G.apply(lambda x: jd.date.fromgregorian(day=x.day,month=x.month,year=x.year))\n",
    "DataOrg_date_GtoJ_dict = dict(zip(G,J))\n",
    "SDATA['Jalali_Date']=SDATA.True_Date.map(DataOrg_date_GtoJ_dict)\n",
    "\n",
    "SDATA.drop(columns=['High', 'Low', 'Open', 'Last', 'Volume', 'close',\n",
    "       'True_Date', 'year', 'month', 'day', 'Fill_Flag','Unadjusted_close','chnk_id'],inplace=True)"
   ]
  },
  {
   "cell_type": "code",
   "execution_count": 23,
   "metadata": {},
   "outputs": [],
   "source": [
    "# Creating Dataframe for saving concentration mearsurs\n",
    "CMdf = SDATA.groupby('Symbol',as_index=False).agg({'Id_tse':'first','percent':'sum','ShareHolder':'count'}).rename(columns={'ShareHolder':'Num_holders','percent':'sum_over1'})\n",
    "CMdf.reset_index(drop=True,inplace=True)"
   ]
  },
  {
   "cell_type": "markdown",
   "metadata": {},
   "source": [
    "# **Concentration Measures**"
   ]
  },
  {
   "cell_type": "markdown",
   "metadata": {},
   "source": [
    "## 1- Largest Owner"
   ]
  },
  {
   "cell_type": "code",
   "execution_count": 24,
   "metadata": {},
   "outputs": [],
   "source": [
    "temp = SDATA.groupby('Symbol',as_index=False).agg({'percent':'max'}).rename(columns={'percent':'Largest_Owner'})\n",
    "CMdf = pd.merge(CMdf,temp,left_on='Symbol',right_on='Symbol',how='left')"
   ]
  },
  {
   "cell_type": "markdown",
   "metadata": {},
   "source": [
    "## 2- First/Second"
   ]
  },
  {
   "cell_type": "code",
   "execution_count": 25,
   "metadata": {},
   "outputs": [],
   "source": [
    "def nth_max(data,nth=1,interval=False):\n",
    "    data = data.sort_values(ascending=False)\n",
    "    if interval:\n",
    "        return(np.round(data.iloc[min(nth[0]-1,len(data)-1):min(nth[1],len(data))],2))\n",
    "    else:\n",
    "        return(np.round(data.iloc[min(nth-1,len(data)-1)],2))"
   ]
  },
  {
   "cell_type": "code",
   "execution_count": 26,
   "metadata": {},
   "outputs": [
    {
     "name": "stderr",
     "output_type": "stream",
     "text": [
      "C:\\Users\\Mahdi\\Anaconda3\\lib\\site-packages\\pandas\\core\\reshape\\merge.py:617: UserWarning: merging between different levels can give an unintended result (1 levels on the left, 2 on the right)\n",
      "  warnings.warn(msg, UserWarning)\n",
      "C:\\Users\\Mahdi\\Anaconda3\\lib\\site-packages\\pandas\\core\\generic.py:3946: PerformanceWarning: dropping on a non-lexsorted multi-index without a level parameter may impact performance.\n",
      "  new_axis = axis.drop(labels, errors=errors)\n"
     ]
    }
   ],
   "source": [
    "temp = SDATA.groupby('Symbol',as_index=False).agg({'percent':{lambda x: max(x)/nth_max(x,nth=2,interval=False)}}).rename(columns={'percent':'First_Second'})\n",
    "CMdf = pd.merge(CMdf,temp,left_on='Symbol',right_on='Symbol',how='left').rename(columns={('First_Second', '<lambda>'):'First_Second'})"
   ]
  },
  {
   "cell_type": "markdown",
   "metadata": {},
   "source": [
    "## 3- First/Sumtwofour"
   ]
  },
  {
   "cell_type": "code",
   "execution_count": 27,
   "metadata": {},
   "outputs": [],
   "source": [
    "temp = SDATA.groupby('Symbol',as_index=False).agg({'percent':{lambda x: max(x)/sum(nth_max(x,nth=[2,4],interval=True))}}).rename(columns={'percent':'First_Sumtwofour'})\n",
    "CMdf = pd.merge(CMdf,temp,left_on='Symbol',right_on='Symbol',how='left').rename(columns={('First_Sumtwofour', '<lambda>'):'First_Sumtwofour'})"
   ]
  },
  {
   "cell_type": "markdown",
   "metadata": {},
   "source": [
    "## 4- Sumfive"
   ]
  },
  {
   "cell_type": "code",
   "execution_count": 28,
   "metadata": {},
   "outputs": [],
   "source": [
    "temp = SDATA.groupby('Symbol',as_index=False).agg({'percent':{lambda x: sum(nth_max(x,nth=[1,5],interval=True))/100}}).rename(columns={'percent':'Sumfive'})\n",
    "CMdf = pd.merge(CMdf,temp,left_on='Symbol',right_on='Symbol',how='left').rename(columns={('Sumfive', '<lambda>'):'Sumfive'})"
   ]
  },
  {
   "cell_type": "markdown",
   "metadata": {},
   "source": [
    "## 5- Gini"
   ]
  },
  {
   "cell_type": "markdown",
   "metadata": {},
   "source": [
    "We calculate gini coeficient using Deaton 1997:\n",
    "$$ \\gamma = \\frac{N+1}{N-1} - \\frac{2}{\\mu\\times N\\times(N-1)}\\sum_{i=1}^N{\\rho_ix_i}$$"
   ]
  },
  {
   "cell_type": "code",
   "execution_count": 29,
   "metadata": {},
   "outputs": [],
   "source": [
    "def gini(data):\n",
    "    data.sort(reverse = True)\n",
    "    N = len(data)\n",
    "    mu = np.mean(data)\n",
    "    ser = [(i+1)*data[i] for i in range(len(data))]\n",
    "    try:\n",
    "        gamma = (N+1)/(N-1)-(2*sum(ser))/(mu*N*(N-1))\n",
    "    except:\n",
    "        gamma = 0\n",
    "    return(gamma)"
   ]
  },
  {
   "cell_type": "code",
   "execution_count": 30,
   "metadata": {},
   "outputs": [],
   "source": [
    "temp = SDATA.groupby('Symbol',as_index=False).agg({'percent':{lambda x: gini(list(x))}}).rename(columns={'percent':'Gini'})\n",
    "CMdf = pd.merge(CMdf,temp,left_on='Symbol',right_on='Symbol',how='left').rename(columns={('Gini', '<lambda>'):'Gini'})"
   ]
  },
  {
   "cell_type": "markdown",
   "metadata": {},
   "source": [
    "## 6- Herfindhal"
   ]
  },
  {
   "cell_type": "code",
   "execution_count": 31,
   "metadata": {},
   "outputs": [],
   "source": [
    "temp = SDATA.groupby('Symbol',as_index=False).agg({'percent':{lambda x: sum([(t/100)**2 for t in list(x)])}}).rename(columns={'percent':'Herfindhal'})\n",
    "CMdf = pd.merge(CMdf,temp,left_on='Symbol',right_on='Symbol',how='left').rename(columns={('Herfindhal', '<lambda>'):'Herfindhal'})"
   ]
  },
  {
   "cell_type": "markdown",
   "metadata": {},
   "source": [
    "## 7-Shapley-Shubik"
   ]
  },
  {
   "cell_type": "code",
   "execution_count": 36,
   "metadata": {},
   "outputs": [
    {
     "data": {
      "text/html": [
       "<div>\n",
       "<style scoped>\n",
       "    .dataframe tbody tr th:only-of-type {\n",
       "        vertical-align: middle;\n",
       "    }\n",
       "\n",
       "    .dataframe tbody tr th {\n",
       "        vertical-align: top;\n",
       "    }\n",
       "\n",
       "    .dataframe thead th {\n",
       "        text-align: right;\n",
       "    }\n",
       "</style>\n",
       "<table border=\"1\" class=\"dataframe\">\n",
       "  <thead>\n",
       "    <tr style=\"text-align: right;\">\n",
       "      <th></th>\n",
       "      <th>Symbol</th>\n",
       "      <th>Id_tse</th>\n",
       "      <th>sum_over1</th>\n",
       "      <th>Num_holders</th>\n",
       "      <th>Largest_Owner</th>\n",
       "      <th>First_Second</th>\n",
       "      <th>First_Sumtwofour</th>\n",
       "      <th>Sumfive</th>\n",
       "      <th>Gini</th>\n",
       "      <th>Herfindhal</th>\n",
       "    </tr>\n",
       "  </thead>\n",
       "  <tbody>\n",
       "    <tr>\n",
       "      <td>0</td>\n",
       "      <td>اعتضاد غدیر</td>\n",
       "      <td>34973883374080119</td>\n",
       "      <td>99.89</td>\n",
       "      <td>1</td>\n",
       "      <td>99.89</td>\n",
       "      <td>1.000000</td>\n",
       "      <td>1.000000</td>\n",
       "      <td>0.9989</td>\n",
       "      <td>0.000000</td>\n",
       "      <td>0.997801</td>\n",
       "    </tr>\n",
       "    <tr>\n",
       "      <td>304</td>\n",
       "      <td>غالبر</td>\n",
       "      <td>24303422207378456</td>\n",
       "      <td>51.33</td>\n",
       "      <td>1</td>\n",
       "      <td>51.33</td>\n",
       "      <td>1.000000</td>\n",
       "      <td>1.000000</td>\n",
       "      <td>0.5133</td>\n",
       "      <td>0.000000</td>\n",
       "      <td>0.263477</td>\n",
       "    </tr>\n",
       "    <tr>\n",
       "      <td>300</td>\n",
       "      <td>صایند</td>\n",
       "      <td>45205530868811305</td>\n",
       "      <td>99.36</td>\n",
       "      <td>1</td>\n",
       "      <td>99.36</td>\n",
       "      <td>1.000000</td>\n",
       "      <td>1.000000</td>\n",
       "      <td>0.9936</td>\n",
       "      <td>0.000000</td>\n",
       "      <td>0.987241</td>\n",
       "    </tr>\n",
       "    <tr>\n",
       "      <td>283</td>\n",
       "      <td>شلعاب</td>\n",
       "      <td>39116664428676213</td>\n",
       "      <td>63.64</td>\n",
       "      <td>1</td>\n",
       "      <td>63.64</td>\n",
       "      <td>1.000000</td>\n",
       "      <td>1.000000</td>\n",
       "      <td>0.6364</td>\n",
       "      <td>0.000000</td>\n",
       "      <td>0.405005</td>\n",
       "    </tr>\n",
       "    <tr>\n",
       "      <td>270</td>\n",
       "      <td>شزنگ</td>\n",
       "      <td>65490886290565185</td>\n",
       "      <td>42.54</td>\n",
       "      <td>1</td>\n",
       "      <td>42.54</td>\n",
       "      <td>1.000000</td>\n",
       "      <td>1.000000</td>\n",
       "      <td>0.4254</td>\n",
       "      <td>0.000000</td>\n",
       "      <td>0.180965</td>\n",
       "    </tr>\n",
       "    <tr>\n",
       "      <td>...</td>\n",
       "      <td>...</td>\n",
       "      <td>...</td>\n",
       "      <td>...</td>\n",
       "      <td>...</td>\n",
       "      <td>...</td>\n",
       "      <td>...</td>\n",
       "      <td>...</td>\n",
       "      <td>...</td>\n",
       "      <td>...</td>\n",
       "      <td>...</td>\n",
       "    </tr>\n",
       "    <tr>\n",
       "      <td>494</td>\n",
       "      <td>وپارس</td>\n",
       "      <td>33293588228706998</td>\n",
       "      <td>79.41</td>\n",
       "      <td>24</td>\n",
       "      <td>8.29</td>\n",
       "      <td>1.444251</td>\n",
       "      <td>0.527354</td>\n",
       "      <td>0.2898</td>\n",
       "      <td>0.327924</td>\n",
       "      <td>0.034772</td>\n",
       "    </tr>\n",
       "    <tr>\n",
       "      <td>405</td>\n",
       "      <td>نبورس</td>\n",
       "      <td>60095061789823130</td>\n",
       "      <td>90.09</td>\n",
       "      <td>24</td>\n",
       "      <td>6.36</td>\n",
       "      <td>1.000000</td>\n",
       "      <td>0.333333</td>\n",
       "      <td>0.3180</td>\n",
       "      <td>0.320573</td>\n",
       "      <td>0.043968</td>\n",
       "    </tr>\n",
       "    <tr>\n",
       "      <td>5</td>\n",
       "      <td>آریان</td>\n",
       "      <td>6506179926371994</td>\n",
       "      <td>77.98</td>\n",
       "      <td>26</td>\n",
       "      <td>10.38</td>\n",
       "      <td>1.119741</td>\n",
       "      <td>0.450521</td>\n",
       "      <td>0.3832</td>\n",
       "      <td>0.401057</td>\n",
       "      <td>0.039486</td>\n",
       "    </tr>\n",
       "    <tr>\n",
       "      <td>412</td>\n",
       "      <td>نکالا</td>\n",
       "      <td>10919655792568926</td>\n",
       "      <td>93.96</td>\n",
       "      <td>31</td>\n",
       "      <td>6.34</td>\n",
       "      <td>1.126110</td>\n",
       "      <td>0.391600</td>\n",
       "      <td>0.2693</td>\n",
       "      <td>0.266418</td>\n",
       "      <td>0.034464</td>\n",
       "    </tr>\n",
       "    <tr>\n",
       "      <td>74</td>\n",
       "      <td>تکالا</td>\n",
       "      <td>67612261115225625</td>\n",
       "      <td>78.79</td>\n",
       "      <td>42</td>\n",
       "      <td>4.92</td>\n",
       "      <td>1.430233</td>\n",
       "      <td>0.546060</td>\n",
       "      <td>0.1647</td>\n",
       "      <td>0.195007</td>\n",
       "      <td>0.016929</td>\n",
       "    </tr>\n",
       "  </tbody>\n",
       "</table>\n",
       "<p>605 rows × 10 columns</p>\n",
       "</div>"
      ],
      "text/plain": [
       "           Symbol             Id_tse  sum_over1  Num_holders  Largest_Owner  \\\n",
       "0     اعتضاد غدیر  34973883374080119      99.89            1          99.89   \n",
       "304         غالبر  24303422207378456      51.33            1          51.33   \n",
       "300         صایند  45205530868811305      99.36            1          99.36   \n",
       "283         شلعاب  39116664428676213      63.64            1          63.64   \n",
       "270          شزنگ  65490886290565185      42.54            1          42.54   \n",
       "..            ...                ...        ...          ...            ...   \n",
       "494         وپارس  33293588228706998      79.41           24           8.29   \n",
       "405         نبورس  60095061789823130      90.09           24           6.36   \n",
       "5           آریان   6506179926371994      77.98           26          10.38   \n",
       "412         نکالا  10919655792568926      93.96           31           6.34   \n",
       "74          تکالا  67612261115225625      78.79           42           4.92   \n",
       "\n",
       "     First_Second  First_Sumtwofour  Sumfive      Gini  Herfindhal  \n",
       "0        1.000000          1.000000   0.9989  0.000000    0.997801  \n",
       "304      1.000000          1.000000   0.5133  0.000000    0.263477  \n",
       "300      1.000000          1.000000   0.9936  0.000000    0.987241  \n",
       "283      1.000000          1.000000   0.6364  0.000000    0.405005  \n",
       "270      1.000000          1.000000   0.4254  0.000000    0.180965  \n",
       "..            ...               ...      ...       ...         ...  \n",
       "494      1.444251          0.527354   0.2898  0.327924    0.034772  \n",
       "405      1.000000          0.333333   0.3180  0.320573    0.043968  \n",
       "5        1.119741          0.450521   0.3832  0.401057    0.039486  \n",
       "412      1.126110          0.391600   0.2693  0.266418    0.034464  \n",
       "74       1.430233          0.546060   0.1647  0.195007    0.016929  \n",
       "\n",
       "[605 rows x 10 columns]"
      ]
     },
     "execution_count": 36,
     "metadata": {},
     "output_type": "execute_result"
    }
   ],
   "source": [
    "# CMdf[CMdf.Num_holders>20]\n",
    "CMdf.sort_values(by='Num_holders')"
   ]
  },
  {
   "cell_type": "code",
   "execution_count": 34,
   "metadata": {},
   "outputs": [
    {
     "name": "stdout",
     "output_type": "stream",
     "text": [
      "Wall time: 10.6 s\n"
     ]
    },
    {
     "data": {
      "text/plain": [
       "[(117, 0.014666041173875889),\n",
       " (145, 0.018240179295041552),\n",
       " (107, 0.013395737887830305),\n",
       " (149, 0.018752896969831526),\n",
       " (142, 0.017856006591268805),\n",
       " (185, 0.023391291367154534),\n",
       " (118, 0.014793236812876266),\n",
       " (176, 0.022227578216311633),\n",
       " (252, 0.032142737004626463),\n",
       " (118, 0.014793236812876266),\n",
       " (200, 0.02533694280073188),\n",
       " (237, 0.030169699888540423),\n",
       " (151, 0.01900943809880782),\n",
       " (188, 0.023779793238160808),\n",
       " (289, 0.03704456553822153),\n",
       " (190, 0.02403896991071311),\n",
       " (161, 0.020294189355561564),\n",
       " (102, 0.01276179949350819),\n",
       " (167, 0.021066618783361135),\n",
       " (128, 0.016067110048636674),\n",
       " (237, 0.030169699888540423),\n",
       " (172, 0.021711271247153188),\n",
       " (242, 0.03082647176584244),\n",
       " (229, 0.02912068450547725),\n",
       " (268, 0.034256281659924136),\n",
       " (161, 0.020294189355561564),\n",
       " (175, 0.022098456175264545),\n",
       " (225, 0.028597040207685373),\n",
       " (344, 0.044425963277194884),\n",
       " (215, 0.027290368295594645),\n",
       " (140, 0.017600060898177852),\n",
       " (127, 0.015939578430193266),\n",
       " (202, 0.025596943413058938),\n",
       " (151, 0.01900943809880782),\n",
       " (156, 0.019651378307371258),\n",
       " (149, 0.018752896969831526),\n",
       " (154, 0.01939450459345066),\n",
       " (202, 0.025596943413058938),\n",
       " (105, 0.013142061071814126),\n",
       " (492, 0.0648967692473409),\n",
       " (154, 0.01939450459345066),\n",
       " (254, 0.03240642529726927)]"
      ]
     },
     "execution_count": 34,
     "metadata": {},
     "output_type": "execute_result"
    }
   ],
   "source": [
    "%%time\n",
    "import powerindices as px\n",
    "prc = list(SDATA[SDATA.Id_tse==CMdf[CMdf.Num_holders>40].Id_tse.iloc[0]].percent)\n",
    "weight = [int(x*100) for x in prc]\n",
    "# print(px.compute_ssi(5000,[int(x) for x in list(np.ones(20))]))\n",
    "list(zip(weight,px.compute_ssi(5000,weight)))"
   ]
  }
 ],
 "metadata": {
  "kernelspec": {
   "display_name": "Python 3",
   "language": "python",
   "name": "python3"
  },
  "language_info": {
   "codemirror_mode": {
    "name": "ipython",
    "version": 3
   },
   "file_extension": ".py",
   "mimetype": "text/x-python",
   "name": "python",
   "nbconvert_exporter": "python",
   "pygments_lexer": "ipython3",
   "version": "3.7.1"
  },
  "varInspector": {
   "cols": {
    "lenName": 16,
    "lenType": 16,
    "lenVar": 40
   },
   "kernels_config": {
    "python": {
     "delete_cmd_postfix": "",
     "delete_cmd_prefix": "del ",
     "library": "var_list.py",
     "varRefreshCmd": "print(var_dic_list())"
    },
    "r": {
     "delete_cmd_postfix": ") ",
     "delete_cmd_prefix": "rm(",
     "library": "var_list.r",
     "varRefreshCmd": "cat(var_dic_list()) "
    }
   },
   "types_to_exclude": [
    "module",
    "function",
    "builtin_function_or_method",
    "instance",
    "_Feature"
   ],
   "window_display": false
  }
 },
 "nbformat": 4,
 "nbformat_minor": 4
}
