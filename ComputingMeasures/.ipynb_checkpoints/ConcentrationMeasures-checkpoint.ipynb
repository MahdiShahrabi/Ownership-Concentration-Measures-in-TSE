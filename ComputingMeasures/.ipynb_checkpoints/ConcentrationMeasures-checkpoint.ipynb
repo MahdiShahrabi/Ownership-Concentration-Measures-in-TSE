{
 "cells": [
  {
   "cell_type": "code",
   "execution_count": 1,
   "metadata": {},
   "outputs": [],
   "source": [
    "## Loading Libraries\n",
    "import pandas as pd\n",
    "import numpy as np\n",
    "import sys\n",
    "import jdatetime as jd\n",
    "import os\n",
    "import pickle\n",
    "\n",
    "# import power_index_calculator as px\n",
    "from IPython.core.interactiveshell import InteractiveShell\n",
    "InteractiveShell.ast_node_interactivity = \"all\""
   ]
  },
  {
   "cell_type": "code",
   "execution_count": 2,
   "metadata": {},
   "outputs": [],
   "source": [
    "## Loading functions\n",
    "from convert_ar_characters import convert_ar_characters\n",
    "from ReadingBalancesheetData import read_blnc_data\n",
    "from nthMax import nth_max\n",
    "from gini import gini\n",
    "from find_shapley import find_shapley\n",
    "from find_banzhaf import find_banzhaf\n",
    "from gameTheoric_concentration import gameTheoric_concentration\n",
    "from fill_shapley_banzhaf import fill_shapley_banzhaf"
   ]
  },
  {
   "cell_type": "markdown",
   "metadata": {},
   "source": [
    "# **Loading Shareholder Data**"
   ]
  },
  {
   "cell_type": "code",
   "execution_count": 18,
   "metadata": {},
   "outputs": [],
   "source": [
    "year = 1397\n",
    "file_name_holderdata = \"Shareholder\"+str(year)+\".csv\"\n",
    "file_name_measures = \"Measures\"+str(year)+\".csv\"\n",
    "file_name_blnc = str(year)[2:]+'.txt'\n",
    "file_name_measures_blnc = 'data_owenership'+str(year)[2:]+'_blnc'+str(year)[2:]+'.csv'"
   ]
  },
  {
   "cell_type": "code",
   "execution_count": 19,
   "metadata": {},
   "outputs": [],
   "source": [
    "## Loading DATA\n",
    "os.chdir(r\"C:\\Users\\Mahdi\\OneDrive\\Master Thesis\\Data\")\n",
    "SDATA = pd.read_csv(file_name_holderdata,index_col=0)\n",
    "\n",
    "# Conver date from string to jdatetime\n",
    "SDATA['True_Date'] = pd.to_datetime(SDATA['True_Date'], format='%Y-%m-%d')\n",
    "G = SDATA.True_Date.drop_duplicates()\n",
    "J = G.apply(lambda x: jd.date.fromgregorian(day=x.day,month=x.month,year=x.year))\n",
    "DataOrg_date_GtoJ_dict = dict(zip(G,J))\n",
    "SDATA['Jalali_Date']=SDATA.True_Date.map(DataOrg_date_GtoJ_dict)\n",
    "\n",
    "SDATA.drop(columns=['High', 'Low', 'Open', 'Last', 'Volume', 'close',\n",
    "       'True_Date', 'year', 'month', 'day', 'Fill_Flag','Unadjusted_close','chnk_id'],inplace=True)"
   ]
  },
  {
   "cell_type": "code",
   "execution_count": 20,
   "metadata": {},
   "outputs": [],
   "source": [
    "# Creating Dataframe for saving concentration mearsurs\n",
    "CMdf = SDATA.groupby('Symbol',as_index=False).agg({'Id_tse':'first','Industry':'first','percent':'sum',\n",
    "                                                   'ShareHolder':'count','MarketCap':'first'}).rename(columns=\n",
    "                                                            {'ShareHolder':'Num_holders','percent':'sum_over1'})\n",
    "CMdf.reset_index(drop=True,inplace=True)"
   ]
  },
  {
   "cell_type": "markdown",
   "metadata": {},
   "source": [
    "## Filtering Data"
   ]
  },
  {
   "cell_type": "code",
   "execution_count": 21,
   "metadata": {},
   "outputs": [
    {
     "name": "stdout",
     "output_type": "stream",
     "text": [
      "Number of Observation is:  605 \n",
      "\n",
      "174  is deleted becaause their sum_above1% is equalt to or more than  90 %\n",
      "102  is deleted becaause their number of holder is less or equal than  2\n",
      "7  is deleted becaause their MarketCap is less or equal than  1000000000000.0\n",
      "\n",
      "Number of remained Observation is:  322\n"
     ]
    }
   ],
   "source": [
    "## Filtering Data\n",
    "print('Number of Observation is: ',len(CMdf),'\\n')\n",
    "theta_sum1 = 90\n",
    "theta_holder = 2\n",
    "MC = 100e10\n",
    "\n",
    "\n",
    "filtered = CMdf[CMdf.sum_over1>=theta_sum1]\n",
    "CMdf = CMdf[CMdf.sum_over1<=theta_sum1]\n",
    "print(len(filtered),' is deleted becaause their sum_above1% is equalt to or more than ',theta_sum1,'%')\n",
    "\n",
    "filtered = CMdf[CMdf.Num_holders<=theta_holder]\n",
    "CMdf = CMdf[CMdf.Num_holders>theta_holder]\n",
    "print(len(filtered),' is deleted becaause their number of holder is less or equal than ',theta_holder)\n",
    "\n",
    "filtered = CMdf[CMdf.MarketCap<=MC]\n",
    "CMdf = CMdf[np.logical_or(CMdf.MarketCap>MC,pd.isnull(CMdf.MarketCap))]\n",
    "print(len(filtered),' is deleted becaause their MarketCap is less or equal than ',MC)\n",
    "\n",
    "print('\\nNumber of remained Observation is: ',len(CMdf))"
   ]
  },
  {
   "cell_type": "markdown",
   "metadata": {},
   "source": [
    "# **Concentration Measures**"
   ]
  },
  {
   "cell_type": "markdown",
   "metadata": {},
   "source": [
    "## 1- Largest Owner"
   ]
  },
  {
   "cell_type": "code",
   "execution_count": 22,
   "metadata": {},
   "outputs": [],
   "source": [
    "temp = SDATA.groupby('Symbol',as_index=False).agg({'percent':'max'}).rename(columns={'percent':'Largest_Owner'})\n",
    "CMdf = pd.merge(CMdf,temp,left_on='Symbol',right_on='Symbol',how='left')"
   ]
  },
  {
   "cell_type": "markdown",
   "metadata": {},
   "source": [
    "## 2- First/Second"
   ]
  },
  {
   "cell_type": "code",
   "execution_count": 23,
   "metadata": {},
   "outputs": [
    {
     "name": "stderr",
     "output_type": "stream",
     "text": [
      "C:\\Users\\Mahdi\\Anaconda3\\lib\\site-packages\\pandas\\core\\reshape\\merge.py:618: UserWarning: merging between different levels can give an unintended result (1 levels on the left, 2 on the right)\n",
      "  warnings.warn(msg, UserWarning)\n",
      "C:\\Users\\Mahdi\\Anaconda3\\lib\\site-packages\\pandas\\core\\generic.py:3936: PerformanceWarning: dropping on a non-lexsorted multi-index without a level parameter may impact performance.\n",
      "  obj = obj._drop_axis(labels, axis, level=level, errors=errors)\n"
     ]
    }
   ],
   "source": [
    "temp = SDATA.groupby('Symbol',as_index=False).agg({'percent':{lambda x: max(x)/nth_max(x,nth=2,interval=False)}}).rename(columns={'percent':'First_Second'})\n",
    "CMdf = pd.merge(CMdf,temp,left_on='Symbol',right_on='Symbol',how='left').rename(columns={('First_Second', '<lambda>'):'First_Second'})"
   ]
  },
  {
   "cell_type": "markdown",
   "metadata": {},
   "source": [
    "## 3- First/Sumtwofour"
   ]
  },
  {
   "cell_type": "code",
   "execution_count": 24,
   "metadata": {},
   "outputs": [],
   "source": [
    "temp = SDATA.groupby('Symbol',as_index=False).agg({'percent':{lambda x: max(x)/sum(nth_max(x,nth=[2,4],interval=True))}}).rename(\n",
    "    columns={'percent':'First_Sumtwofour'})\n",
    "CMdf = pd.merge(CMdf,temp,left_on='Symbol',right_on='Symbol',how='left').rename(columns={('First_Sumtwofour', '<lambda>'):'First_Sumtwofour'})"
   ]
  },
  {
   "cell_type": "markdown",
   "metadata": {},
   "source": [
    "## 4- Sumfive"
   ]
  },
  {
   "cell_type": "code",
   "execution_count": 25,
   "metadata": {},
   "outputs": [],
   "source": [
    "temp = SDATA.groupby('Symbol',as_index=False).agg({'percent':{lambda x: sum(nth_max(x,nth=[1,5],interval=True))}}).rename(columns={'percent':'Sumfive'})\n",
    "CMdf = pd.merge(CMdf,temp,left_on='Symbol',right_on='Symbol',how='left').rename(columns={('Sumfive', '<lambda>'):'Sumfive'})"
   ]
  },
  {
   "cell_type": "markdown",
   "metadata": {},
   "source": [
    "## 5- Gini"
   ]
  },
  {
   "cell_type": "markdown",
   "metadata": {},
   "source": [
    "We calculate gini coeficient using Deaton 1997:\n",
    "$$ \\gamma = \\frac{N+1}{N-1} - \\frac{2}{\\mu\\times N\\times(N-1)}\\sum_{i=1}^N{\\rho_ix_i}$$"
   ]
  },
  {
   "cell_type": "code",
   "execution_count": 26,
   "metadata": {},
   "outputs": [],
   "source": [
    "temp = SDATA.groupby('Symbol',as_index=False).agg({'percent':{lambda x: gini(list(x))}}).rename(columns={'percent':'Gini'})\n",
    "CMdf = pd.merge(CMdf,temp,left_on='Symbol',right_on='Symbol',how='left').rename(columns={('Gini', '<lambda>'):'Gini'})"
   ]
  },
  {
   "cell_type": "markdown",
   "metadata": {},
   "source": [
    "## 6- Herfindhal"
   ]
  },
  {
   "cell_type": "code",
   "execution_count": 27,
   "metadata": {},
   "outputs": [],
   "source": [
    "temp = SDATA.groupby('Symbol',as_index=False).agg({'percent':{lambda x: sum([(t/100)**2 for t in list(x)])}}).rename(columns={'percent':'Herfindhal'})\n",
    "CMdf = pd.merge(CMdf,temp,left_on='Symbol',right_on='Symbol',how='left').rename(columns={('Herfindhal', '<lambda>'):'Herfindhal'})"
   ]
  },
  {
   "cell_type": "markdown",
   "metadata": {},
   "source": [
    "## 7 & 8-Shapley-Shubik & Banzhaf"
   ]
  },
  {
   "cell_type": "code",
   "execution_count": 28,
   "metadata": {},
   "outputs": [
    {
     "data": {
      "text/html": [
       "<div>\n",
       "<style scoped>\n",
       "    .dataframe tbody tr th:only-of-type {\n",
       "        vertical-align: middle;\n",
       "    }\n",
       "\n",
       "    .dataframe tbody tr th {\n",
       "        vertical-align: top;\n",
       "    }\n",
       "\n",
       "    .dataframe thead th {\n",
       "        text-align: right;\n",
       "    }\n",
       "</style>\n",
       "<table border=\"1\" class=\"dataframe\">\n",
       "  <thead>\n",
       "    <tr style=\"text-align: right;\">\n",
       "      <th></th>\n",
       "      <th>Symbol</th>\n",
       "      <th>Id_tse</th>\n",
       "      <th>sum_over1</th>\n",
       "      <th>Num_holders</th>\n",
       "      <th>Largest_Owner</th>\n",
       "      <th>First_Second</th>\n",
       "      <th>First_Sumtwofour</th>\n",
       "      <th>Sumfive</th>\n",
       "      <th>Gini</th>\n",
       "      <th>Herfindhal</th>\n",
       "      <th>SSCL</th>\n",
       "      <th>SSCO</th>\n",
       "      <th>SSDL</th>\n",
       "      <th>SSDO</th>\n",
       "      <th>BZCL</th>\n",
       "      <th>BZCO</th>\n",
       "      <th>BZDL</th>\n",
       "      <th>Industry</th>\n",
       "    </tr>\n",
       "  </thead>\n",
       "  <tbody>\n",
       "    <tr>\n",
       "      <th>0</th>\n",
       "      <td>اعتضاد غدیر</td>\n",
       "      <td>34973883374080119</td>\n",
       "      <td>99.89</td>\n",
       "      <td>1</td>\n",
       "      <td>99.89</td>\n",
       "      <td>1.000000</td>\n",
       "      <td>1.000000</td>\n",
       "      <td>99.89</td>\n",
       "      <td>0.000000</td>\n",
       "      <td>0.997801</td>\n",
       "      <td>1.000000</td>\n",
       "      <td>0.000000</td>\n",
       "      <td>1.000000</td>\n",
       "      <td>0.000000</td>\n",
       "      <td>1.000000</td>\n",
       "      <td>0.000000</td>\n",
       "      <td>1.00000</td>\n",
       "      <td>سرمایه گذاریها</td>\n",
       "    </tr>\n",
       "    <tr>\n",
       "      <th>1</th>\n",
       "      <td>کاغذ مراغه</td>\n",
       "      <td>21383339313241074</td>\n",
       "      <td>51.53</td>\n",
       "      <td>1</td>\n",
       "      <td>51.53</td>\n",
       "      <td>1.000000</td>\n",
       "      <td>1.000000</td>\n",
       "      <td>51.53</td>\n",
       "      <td>0.000000</td>\n",
       "      <td>0.265534</td>\n",
       "      <td>1.000000</td>\n",
       "      <td>0.000000</td>\n",
       "      <td>1.000000</td>\n",
       "      <td>0.000000</td>\n",
       "      <td>1.000000</td>\n",
       "      <td>0.000000</td>\n",
       "      <td>1.00000</td>\n",
       "      <td>محصولات کاغذی</td>\n",
       "    </tr>\n",
       "    <tr>\n",
       "      <th>2</th>\n",
       "      <td>آ س پ</td>\n",
       "      <td>17617474823279712</td>\n",
       "      <td>89.20</td>\n",
       "      <td>5</td>\n",
       "      <td>40.26</td>\n",
       "      <td>1.963902</td>\n",
       "      <td>0.912925</td>\n",
       "      <td>89.20</td>\n",
       "      <td>0.464462</td>\n",
       "      <td>0.236507</td>\n",
       "      <td>0.510949</td>\n",
       "      <td>0.045774</td>\n",
       "      <td>0.514355</td>\n",
       "      <td>0.086037</td>\n",
       "      <td>0.519901</td>\n",
       "      <td>0.106373</td>\n",
       "      <td>0.63636</td>\n",
       "      <td>انبوه سازی، املاک و مستغلات</td>\n",
       "    </tr>\n",
       "    <tr>\n",
       "      <th>3</th>\n",
       "      <td>آتیمس</td>\n",
       "      <td>22839330962768817</td>\n",
       "      <td>99.02</td>\n",
       "      <td>1</td>\n",
       "      <td>99.02</td>\n",
       "      <td>1.000000</td>\n",
       "      <td>1.000000</td>\n",
       "      <td>99.02</td>\n",
       "      <td>0.000000</td>\n",
       "      <td>0.980496</td>\n",
       "      <td>1.000000</td>\n",
       "      <td>0.000000</td>\n",
       "      <td>1.000000</td>\n",
       "      <td>0.000000</td>\n",
       "      <td>1.000000</td>\n",
       "      <td>0.000000</td>\n",
       "      <td>1.00000</td>\n",
       "      <td>صندوق سرمایه گذاری قابل معامله</td>\n",
       "    </tr>\n",
       "    <tr>\n",
       "      <th>4</th>\n",
       "      <td>آرمان</td>\n",
       "      <td>38738476064699383</td>\n",
       "      <td>92.75</td>\n",
       "      <td>11</td>\n",
       "      <td>19.78</td>\n",
       "      <td>1.163529</td>\n",
       "      <td>0.444295</td>\n",
       "      <td>72.12</td>\n",
       "      <td>0.450652</td>\n",
       "      <td>0.121069</td>\n",
       "      <td>0.215876</td>\n",
       "      <td>0.064402</td>\n",
       "      <td>0.216077</td>\n",
       "      <td>0.064466</td>\n",
       "      <td>0.211058</td>\n",
       "      <td>0.069431</td>\n",
       "      <td>0.22684</td>\n",
       "      <td>بیمه وصندوق بازنشستگی به جزتامین اجتماعی</td>\n",
       "    </tr>\n",
       "    <tr>\n",
       "      <th>...</th>\n",
       "      <td>...</td>\n",
       "      <td>...</td>\n",
       "      <td>...</td>\n",
       "      <td>...</td>\n",
       "      <td>...</td>\n",
       "      <td>...</td>\n",
       "      <td>...</td>\n",
       "      <td>...</td>\n",
       "      <td>...</td>\n",
       "      <td>...</td>\n",
       "      <td>...</td>\n",
       "      <td>...</td>\n",
       "      <td>...</td>\n",
       "      <td>...</td>\n",
       "      <td>...</td>\n",
       "      <td>...</td>\n",
       "      <td>...</td>\n",
       "      <td>...</td>\n",
       "    </tr>\n",
       "    <tr>\n",
       "      <th>587</th>\n",
       "      <td>کیمیا</td>\n",
       "      <td>27814844870305607</td>\n",
       "      <td>76.80</td>\n",
       "      <td>5</td>\n",
       "      <td>43.40</td>\n",
       "      <td>2.155986</td>\n",
       "      <td>1.341991</td>\n",
       "      <td>76.80</td>\n",
       "      <td>0.671680</td>\n",
       "      <td>0.240432</td>\n",
       "      <td>0.609680</td>\n",
       "      <td>0.241108</td>\n",
       "      <td>0.609142</td>\n",
       "      <td>0.250401</td>\n",
       "      <td>0.951379</td>\n",
       "      <td>0.038195</td>\n",
       "      <td>1.00000</td>\n",
       "      <td>فلزات اساسی</td>\n",
       "    </tr>\n",
       "    <tr>\n",
       "      <th>588</th>\n",
       "      <td>گوهران</td>\n",
       "      <td>65018804181564924</td>\n",
       "      <td>95.86</td>\n",
       "      <td>2</td>\n",
       "      <td>94.14</td>\n",
       "      <td>54.732558</td>\n",
       "      <td>54.732558</td>\n",
       "      <td>95.86</td>\n",
       "      <td>0.964114</td>\n",
       "      <td>0.886530</td>\n",
       "      <td>1.000000</td>\n",
       "      <td>0.000000</td>\n",
       "      <td>1.000000</td>\n",
       "      <td>0.000000</td>\n",
       "      <td>1.000000</td>\n",
       "      <td>0.000000</td>\n",
       "      <td>1.00000</td>\n",
       "      <td>سرمایه گذاریها</td>\n",
       "    </tr>\n",
       "    <tr>\n",
       "      <th>589</th>\n",
       "      <td>گپارس</td>\n",
       "      <td>59848307608894801</td>\n",
       "      <td>26.93</td>\n",
       "      <td>5</td>\n",
       "      <td>16.46</td>\n",
       "      <td>2.505327</td>\n",
       "      <td>1.741799</td>\n",
       "      <td>26.93</td>\n",
       "      <td>0.671185</td>\n",
       "      <td>0.031932</td>\n",
       "      <td>0.193570</td>\n",
       "      <td>0.702197</td>\n",
       "      <td>0.195451</td>\n",
       "      <td>0.699667</td>\n",
       "      <td>0.292622</td>\n",
       "      <td>0.631065</td>\n",
       "      <td>1.00000</td>\n",
       "      <td>هتل و رستوران</td>\n",
       "    </tr>\n",
       "    <tr>\n",
       "      <th>590</th>\n",
       "      <td>گکوثر</td>\n",
       "      <td>66599109405217136</td>\n",
       "      <td>91.13</td>\n",
       "      <td>6</td>\n",
       "      <td>46.00</td>\n",
       "      <td>1.361753</td>\n",
       "      <td>1.075269</td>\n",
       "      <td>90.12</td>\n",
       "      <td>0.708153</td>\n",
       "      <td>0.330048</td>\n",
       "      <td>0.598530</td>\n",
       "      <td>0.059244</td>\n",
       "      <td>0.590751</td>\n",
       "      <td>0.138989</td>\n",
       "      <td>0.736071</td>\n",
       "      <td>0.129164</td>\n",
       "      <td>1.00000</td>\n",
       "      <td>هتل و رستوران</td>\n",
       "    </tr>\n",
       "    <tr>\n",
       "      <th>591</th>\n",
       "      <td>گکیش</td>\n",
       "      <td>44665761767777759</td>\n",
       "      <td>66.94</td>\n",
       "      <td>1</td>\n",
       "      <td>66.94</td>\n",
       "      <td>1.000000</td>\n",
       "      <td>1.000000</td>\n",
       "      <td>66.94</td>\n",
       "      <td>0.000000</td>\n",
       "      <td>0.448096</td>\n",
       "      <td>1.000000</td>\n",
       "      <td>0.000000</td>\n",
       "      <td>1.000000</td>\n",
       "      <td>0.000000</td>\n",
       "      <td>1.000000</td>\n",
       "      <td>0.000000</td>\n",
       "      <td>1.00000</td>\n",
       "      <td>هتل و رستوران</td>\n",
       "    </tr>\n",
       "  </tbody>\n",
       "</table>\n",
       "<p>592 rows × 18 columns</p>\n",
       "</div>"
      ],
      "text/plain": [
       "           Symbol             Id_tse  sum_over1  Num_holders  Largest_Owner  \\\n",
       "0     اعتضاد غدیر  34973883374080119      99.89            1          99.89   \n",
       "1      کاغذ مراغه  21383339313241074      51.53            1          51.53   \n",
       "2           آ س پ  17617474823279712      89.20            5          40.26   \n",
       "3           آتیمس  22839330962768817      99.02            1          99.02   \n",
       "4           آرمان  38738476064699383      92.75           11          19.78   \n",
       "..            ...                ...        ...          ...            ...   \n",
       "587         کیمیا  27814844870305607      76.80            5          43.40   \n",
       "588        گوهران  65018804181564924      95.86            2          94.14   \n",
       "589         گپارس  59848307608894801      26.93            5          16.46   \n",
       "590         گکوثر  66599109405217136      91.13            6          46.00   \n",
       "591          گکیش  44665761767777759      66.94            1          66.94   \n",
       "\n",
       "     First_Second  First_Sumtwofour  Sumfive      Gini  Herfindhal      SSCL  \\\n",
       "0        1.000000          1.000000    99.89  0.000000    0.997801  1.000000   \n",
       "1        1.000000          1.000000    51.53  0.000000    0.265534  1.000000   \n",
       "2        1.963902          0.912925    89.20  0.464462    0.236507  0.510949   \n",
       "3        1.000000          1.000000    99.02  0.000000    0.980496  1.000000   \n",
       "4        1.163529          0.444295    72.12  0.450652    0.121069  0.215876   \n",
       "..            ...               ...      ...       ...         ...       ...   \n",
       "587      2.155986          1.341991    76.80  0.671680    0.240432  0.609680   \n",
       "588     54.732558         54.732558    95.86  0.964114    0.886530  1.000000   \n",
       "589      2.505327          1.741799    26.93  0.671185    0.031932  0.193570   \n",
       "590      1.361753          1.075269    90.12  0.708153    0.330048  0.598530   \n",
       "591      1.000000          1.000000    66.94  0.000000    0.448096  1.000000   \n",
       "\n",
       "         SSCO      SSDL      SSDO      BZCL      BZCO     BZDL  \\\n",
       "0    0.000000  1.000000  0.000000  1.000000  0.000000  1.00000   \n",
       "1    0.000000  1.000000  0.000000  1.000000  0.000000  1.00000   \n",
       "2    0.045774  0.514355  0.086037  0.519901  0.106373  0.63636   \n",
       "3    0.000000  1.000000  0.000000  1.000000  0.000000  1.00000   \n",
       "4    0.064402  0.216077  0.064466  0.211058  0.069431  0.22684   \n",
       "..        ...       ...       ...       ...       ...      ...   \n",
       "587  0.241108  0.609142  0.250401  0.951379  0.038195  1.00000   \n",
       "588  0.000000  1.000000  0.000000  1.000000  0.000000  1.00000   \n",
       "589  0.702197  0.195451  0.699667  0.292622  0.631065  1.00000   \n",
       "590  0.059244  0.590751  0.138989  0.736071  0.129164  1.00000   \n",
       "591  0.000000  1.000000  0.000000  1.000000  0.000000  1.00000   \n",
       "\n",
       "                                     Industry  \n",
       "0                              سرمایه گذاریها  \n",
       "1                               محصولات کاغذی  \n",
       "2                 انبوه سازی، املاک و مستغلات  \n",
       "3              صندوق سرمایه گذاری قابل معامله  \n",
       "4    بیمه وصندوق بازنشستگی به جزتامین اجتماعی  \n",
       "..                                        ...  \n",
       "587                               فلزات اساسی  \n",
       "588                            سرمایه گذاریها  \n",
       "589                             هتل و رستوران  \n",
       "590                             هتل و رستوران  \n",
       "591                             هتل و رستوران  \n",
       "\n",
       "[592 rows x 18 columns]"
      ]
     },
     "execution_count": 28,
     "metadata": {},
     "output_type": "execute_result"
    }
   ],
   "source": [
    "CMdf_load"
   ]
  },
  {
   "cell_type": "code",
   "execution_count": 29,
   "metadata": {},
   "outputs": [],
   "source": [
    "# # Initiating columns\n",
    "# CMdf['SSCL'] = np.nan\n",
    "# CMdf['SSCO'] = np.nan\n",
    "# CMdf['SSDL'] = np.nan\n",
    "# CMdf['SSDO'] = np.nan\n",
    "# CMdf['BZCL'] = np.nan\n",
    "# CMdf['BZCO'] = np.nan\n",
    "# CMdf['BZDL'] = np.nan\n",
    "\n",
    "os.chdir(r\"C:\\Users\\Mahdi\\OneDrive\\Master Thesis\\Data\")\n",
    "CMdf_load = pd.read_csv(file_name_measures)\n",
    "\n",
    "CMdf = pd.merge(CMdf,CMdf_load[['Symbol','SSCL', 'SSCO', 'SSDL', 'SSDO', 'BZCL', 'BZCO', 'BZDL']],left_on='Symbol',right_on='Symbol',how='left')"
   ]
  },
  {
   "cell_type": "code",
   "execution_count": null,
   "metadata": {},
   "outputs": [
    {
     "name": "stdout",
     "output_type": "stream",
     "text": [
      "The symbol  آریان  mode:  SSDL ,  1  from  8\n",
      "The symbol  تکالا  mode:  SSDL ,  2  from  8\n"
     ]
    }
   ],
   "source": [
    "%%time\n",
    "data = fill_shapley_banzhaf(data = CMdf,SDATA=SDATA,fast_mode = True,time_pnt=True,major_thr = 10)\n",
    "CMdf = data['CMdf']\n",
    "\n",
    "print('len(Errors): ',len(data['Errors']))\n",
    "data['Errors']\n",
    "[x for x in data['Errors'] if x[2]!= 'Error: request error!']"
   ]
  },
  {
   "cell_type": "code",
   "execution_count": null,
   "metadata": {},
   "outputs": [],
   "source": [
    "os.chdir(r\"C:\\Users\\Mahdi\\OneDrive\\Master Thesis\\Data\")\n",
    "CMdf.to_csv(file_name_measures)"
   ]
  },
  {
   "cell_type": "markdown",
   "metadata": {},
   "source": [
    "# **Loading Balancesheet Data and Merging**"
   ]
  },
  {
   "cell_type": "code",
   "execution_count": 13,
   "metadata": {},
   "outputs": [],
   "source": [
    "blnc_data = read_blnc_data(file=file_name_blnc)\n",
    "blnc_data['book_value'] = blnc_data.Tot_asset-blnc_data.Tot_lib\n",
    "blnc_data = blnc_data[blnc_data.book_value>0]"
   ]
  },
  {
   "cell_type": "code",
   "execution_count": 14,
   "metadata": {},
   "outputs": [],
   "source": [
    "data_out = pd.merge(CMdf,blnc_data[['Symbol','Tot_asset', 'Tot_lib', 'Capital', 'Equity_at_year_end','Debt_Equity', 'Debt_Equity_normal', 'book_value']]\n",
    "                    ,left_on='Symbol',right_on='Symbol',how='outer')\n",
    "\n",
    "os.chdir(r\"C:\\Users\\Mahdi\\OneDrive\\Master Thesis\\Data\")\n",
    "data_out.to_csv('data_owenership98_blnc98.csv')"
   ]
  }
 ],
 "metadata": {
  "kernelspec": {
   "display_name": "Python 3",
   "language": "python",
   "name": "python3"
  },
  "language_info": {
   "codemirror_mode": {
    "name": "ipython",
    "version": 3
   },
   "file_extension": ".py",
   "mimetype": "text/x-python",
   "name": "python",
   "nbconvert_exporter": "python",
   "pygments_lexer": "ipython3",
   "version": "3.7.6"
  },
  "varInspector": {
   "cols": {
    "lenName": 16,
    "lenType": 16,
    "lenVar": 40
   },
   "kernels_config": {
    "python": {
     "delete_cmd_postfix": "",
     "delete_cmd_prefix": "del ",
     "library": "var_list.py",
     "varRefreshCmd": "print(var_dic_list())"
    },
    "r": {
     "delete_cmd_postfix": ") ",
     "delete_cmd_prefix": "rm(",
     "library": "var_list.r",
     "varRefreshCmd": "cat(var_dic_list()) "
    }
   },
   "types_to_exclude": [
    "module",
    "function",
    "builtin_function_or_method",
    "instance",
    "_Feature"
   ],
   "window_display": false
  }
 },
 "nbformat": 4,
 "nbformat_minor": 4
}
