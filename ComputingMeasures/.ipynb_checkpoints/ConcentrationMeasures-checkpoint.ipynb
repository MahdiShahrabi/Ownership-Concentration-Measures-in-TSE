{
 "cells": [
  {
   "cell_type": "code",
   "execution_count": 1,
   "metadata": {},
   "outputs": [],
   "source": [
    "## Loading Libraries\n",
    "import pandas as pd\n",
    "import numpy as np\n",
    "import sys\n",
    "import jdatetime as jd\n",
    "import os\n",
    "import pickle\n",
    "\n",
    "# import power_index_calculator as px\n",
    "from IPython.core.interactiveshell import InteractiveShell\n",
    "InteractiveShell.ast_node_interactivity = \"all\""
   ]
  },
  {
   "cell_type": "code",
   "execution_count": 2,
   "metadata": {},
   "outputs": [],
   "source": [
    "## Loading functions\n",
    "from convert_ar_characters import convert_ar_characters\n",
    "from ReadingBalancesheetData import read_blnc_data\n",
    "from nthMax import nth_max\n",
    "from gini import gini\n",
    "from find_shapley import find_shapley\n",
    "from find_banzhaf import find_banzhaf\n",
    "from gameTheoric_concentration import gameTheoric_concentration\n",
    "from fill_shapley_banzhaf import fill_shapley_banzhaf"
   ]
  },
  {
   "cell_type": "markdown",
   "metadata": {},
   "source": [
    "# **Loading Shareholder Data**"
   ]
  },
  {
   "cell_type": "code",
   "execution_count": 4,
   "metadata": {},
   "outputs": [],
   "source": [
    "## Loading DATA\n",
    "os.chdir(r\"C:\\Users\\Mahdi\\OneDrive\\Master Thesis\\Data\")\n",
    "SDATA = pd.read_csv(\"Shareholder97.csv\",index_col=0)\n",
    "\n",
    "# Conver date from string to jdatetime\n",
    "SDATA['True_Date'] = pd.to_datetime(SDATA['True_Date'], format='%Y-%m-%d')\n",
    "G = SDATA.True_Date.drop_duplicates()\n",
    "J = G.apply(lambda x: jd.date.fromgregorian(day=x.day,month=x.month,year=x.year))\n",
    "DataOrg_date_GtoJ_dict = dict(zip(G,J))\n",
    "SDATA['Jalali_Date']=SDATA.True_Date.map(DataOrg_date_GtoJ_dict)\n",
    "\n",
    "SDATA.drop(columns=['High', 'Low', 'Open', 'Last', 'Volume', 'close',\n",
    "       'True_Date', 'year', 'month', 'day', 'Fill_Flag','Unadjusted_close','chnk_id'],inplace=True)"
   ]
  },
  {
   "cell_type": "code",
   "execution_count": 6,
   "metadata": {},
   "outputs": [],
   "source": [
    "# Creating Dataframe for saving concentration mearsurs\n",
    "CMdf = SDATA.groupby('Symbol',as_index=False).agg({'Id_tse':'first','percent':'sum','ShareHolder':'count'}).rename(\n",
    "    columns={'ShareHolder':'Num_holders','percent':'sum_over1'})\n",
    "CMdf.reset_index(drop=True,inplace=True)"
   ]
  },
  {
   "cell_type": "markdown",
   "metadata": {},
   "source": [
    "# **Concentration Measures**"
   ]
  },
  {
   "cell_type": "markdown",
   "metadata": {},
   "source": [
    "## 1- Largest Owner"
   ]
  },
  {
   "cell_type": "code",
   "execution_count": 7,
   "metadata": {},
   "outputs": [],
   "source": [
    "temp = SDATA.groupby('Symbol',as_index=False).agg({'percent':'max'}).rename(columns={'percent':'Largest_Owner'})\n",
    "CMdf = pd.merge(CMdf,temp,left_on='Symbol',right_on='Symbol',how='left')"
   ]
  },
  {
   "cell_type": "markdown",
   "metadata": {},
   "source": [
    "## 2- First/Second"
   ]
  },
  {
   "cell_type": "code",
   "execution_count": 8,
   "metadata": {
    "collapsed": true,
    "jupyter": {
     "outputs_hidden": true
    }
   },
   "outputs": [
    {
     "name": "stderr",
     "output_type": "stream",
     "text": [
      "C:\\Users\\Mahdi\\Anaconda3\\lib\\site-packages\\pandas\\core\\reshape\\merge.py:618: UserWarning: merging between different levels can give an unintended result (1 levels on the left, 2 on the right)\n",
      "  warnings.warn(msg, UserWarning)\n",
      "C:\\Users\\Mahdi\\Anaconda3\\lib\\site-packages\\pandas\\core\\generic.py:3936: PerformanceWarning: dropping on a non-lexsorted multi-index without a level parameter may impact performance.\n",
      "  obj = obj._drop_axis(labels, axis, level=level, errors=errors)\n"
     ]
    }
   ],
   "source": [
    "temp = SDATA.groupby('Symbol',as_index=False).agg({'percent':{lambda x: max(x)/nth_max(x,nth=2,interval=False)}}).rename(columns={'percent':'First_Second'})\n",
    "CMdf = pd.merge(CMdf,temp,left_on='Symbol',right_on='Symbol',how='left').rename(columns={('First_Second', '<lambda>'):'First_Second'})"
   ]
  },
  {
   "cell_type": "markdown",
   "metadata": {},
   "source": [
    "## 3- First/Sumtwofour"
   ]
  },
  {
   "cell_type": "code",
   "execution_count": 9,
   "metadata": {},
   "outputs": [],
   "source": [
    "temp = SDATA.groupby('Symbol',as_index=False).agg({'percent':{lambda x: max(x)/sum(nth_max(x,nth=[2,4],interval=True))}}).rename(\n",
    "    columns={'percent':'First_Sumtwofour'})\n",
    "CMdf = pd.merge(CMdf,temp,left_on='Symbol',right_on='Symbol',how='left').rename(columns={('First_Sumtwofour', '<lambda>'):'First_Sumtwofour'})"
   ]
  },
  {
   "cell_type": "markdown",
   "metadata": {},
   "source": [
    "## 4- Sumfive"
   ]
  },
  {
   "cell_type": "code",
   "execution_count": 10,
   "metadata": {},
   "outputs": [],
   "source": [
    "temp = SDATA.groupby('Symbol',as_index=False).agg({'percent':{lambda x: sum(nth_max(x,nth=[1,5],interval=True))/100}}).rename(columns={'percent':'Sumfive'})\n",
    "CMdf = pd.merge(CMdf,temp,left_on='Symbol',right_on='Symbol',how='left').rename(columns={('Sumfive', '<lambda>'):'Sumfive'})"
   ]
  },
  {
   "cell_type": "markdown",
   "metadata": {},
   "source": [
    "## 5- Gini"
   ]
  },
  {
   "cell_type": "markdown",
   "metadata": {},
   "source": [
    "We calculate gini coeficient using Deaton 1997:\n",
    "$$ \\gamma = \\frac{N+1}{N-1} - \\frac{2}{\\mu\\times N\\times(N-1)}\\sum_{i=1}^N{\\rho_ix_i}$$"
   ]
  },
  {
   "cell_type": "code",
   "execution_count": 11,
   "metadata": {
    "collapsed": true,
    "jupyter": {
     "outputs_hidden": true
    }
   },
   "outputs": [
    {
     "name": "stderr",
     "output_type": "stream",
     "text": [
      "C:\\Users\\Mahdi\\Anaconda3\\lib\\site-packages\\numpy\\core\\fromnumeric.py:3335: RuntimeWarning: Mean of empty slice.\n",
      "  out=out, **kwargs)\n",
      "C:\\Users\\Mahdi\\Anaconda3\\lib\\site-packages\\numpy\\core\\_methods.py:161: RuntimeWarning: invalid value encountered in double_scalars\n",
      "  ret = ret.dtype.type(ret / rcount)\n"
     ]
    }
   ],
   "source": [
    "temp = SDATA.groupby('Symbol',as_index=False).agg({'percent':{lambda x: gini(list(x))}}).rename(columns={'percent':'Gini'})\n",
    "CMdf = pd.merge(CMdf,temp,left_on='Symbol',right_on='Symbol',how='left').rename(columns={('Gini', '<lambda>'):'Gini'})"
   ]
  },
  {
   "cell_type": "markdown",
   "metadata": {},
   "source": [
    "## 6- Herfindhal"
   ]
  },
  {
   "cell_type": "code",
   "execution_count": 12,
   "metadata": {},
   "outputs": [],
   "source": [
    "temp = SDATA.groupby('Symbol',as_index=False).agg({'percent':{lambda x: sum([(t/100)**2 for t in list(x)])}}).rename(columns={'percent':'Herfindhal'})\n",
    "CMdf = pd.merge(CMdf,temp,left_on='Symbol',right_on='Symbol',how='left').rename(columns={('Herfindhal', '<lambda>'):'Herfindhal'})"
   ]
  },
  {
   "cell_type": "markdown",
   "metadata": {},
   "source": [
    "## 7 & 8-Shapley-Shubik & Banzhaf"
   ]
  },
  {
   "cell_type": "code",
   "execution_count": 13,
   "metadata": {},
   "outputs": [],
   "source": [
    "# # Initiating columns\n",
    "# CMdf['SSCL'] = np.nan\n",
    "# CMdf['SSCO'] = np.nan\n",
    "# CMdf['SSDL'] = np.nan\n",
    "# CMdf['SSDO'] = np.nan\n",
    "# CMdf['BZCL'] = np.nan\n",
    "# CMdf['BZCO'] = np.nan\n",
    "# CMdf['BZDL'] = np.nan\n",
    "\n",
    "os.chdir(r\"C:\\Users\\Mahdi\\OneDrive\\Master Thesis\\Data\")\n",
    "CMdf_load = pd.read_csv('Measures.csv',index_col=0)\n",
    "\n",
    "CMdf = pd.merge(CMdf,CMdf_load[['Symbol','SSCL', 'SSCO', 'SSDL', 'SSDO', 'BZCL', 'BZCO', 'BZDL']],left_on='Symbol',right_on='Symbol',how='left')"
   ]
  },
  {
   "cell_type": "code",
   "execution_count": 20,
   "metadata": {
    "collapsed": true,
    "jupyter": {
     "outputs_hidden": true
    }
   },
   "outputs": [
    {
     "name": "stdout",
     "output_type": "stream",
     "text": [
      "The symbol  آریان  mode:  SSDL ,  1  from  81\n",
      "The symbol  امین یکم  mode:  SSCL ,  2  from  81\n",
      "The symbol  بخاور  mode:  SSCL ,  3  from  81\n",
      "The symbol  بساما  mode:  SSCL ,  4  from  81\n",
      "The symbol  بپاس  mode:  BZDL ,  5  from  81\n",
      "It took about  0.12 seconds\n",
      "The symbol  تراک  mode:  SSCL ,  6  from  81\n"
     ]
    },
    {
     "name": "stderr",
     "output_type": "stream",
     "text": [
      "C:\\Users\\Mahdi\\OneDrive\\Master Thesis\\Codes\\ComputingMeasures\\find_banzhaf.py:113: UserWarning: No parser was explicitly specified, so I'm using the best available HTML parser for this system (\"lxml\"). This usually isn't a problem, but if you run this code on another system, or in a different virtual environment, it may use a different parser and behave differently.\n",
      "\n",
      "The code that caused this warning is on line 113 of the file C:\\Users\\Mahdi\\OneDrive\\Master Thesis\\Codes\\ComputingMeasures\\find_banzhaf.py. To get rid of this warning, pass the additional argument 'features=\"lxml\"' to the BeautifulSoup constructor.\n",
      "\n",
      "  parsed_html = BeautifulSoup(response.text.encode('utf8'))\n"
     ]
    },
    {
     "name": "stdout",
     "output_type": "stream",
     "text": [
      "The symbol  توسعه گردشگری   mode:  SSCL ,  7  from  81\n",
      "The symbol  تکالا  mode:  SSCL ,  8  from  81\n",
      "The symbol  تکالا  mode:  SSDL ,  9  from  81\n",
      "The symbol  تکنار  mode:  SSCL ,  10  from  81\n",
      "The symbol  ثاژن  mode:  SSCL ,  11  from  81\n",
      "The symbol  ثتوسا  mode:  SSCL ,  12  from  81\n",
      "The symbol  ثنام  mode:  SSCL ,  13  from  81\n",
      "The symbol  حکمت  mode:  SSCL ,  14  from  81\n",
      "The symbol  خاور  mode:  SSCL ,  15  from  81\n",
      "The symbol  خصدرا  mode:  SSCL ,  16  from  81\n",
      "The symbol  خفولا  mode:  SSCL ,  17  from  81\n",
      "The symbol  خودرو  mode:  SSCL ,  18  from  81\n",
      "The symbol  خکاوه  mode:  SSCL ,  19  from  81\n",
      "The symbol  دسینا  mode:  SSCL ,  20  from  81\n",
      " It took about  0.09 seconds\n",
      "The symbol  دی  mode:  SSCL ,  21  from  81\n"
     ]
    },
    {
     "name": "stderr",
     "output_type": "stream",
     "text": [
      "C:\\Users\\Mahdi\\OneDrive\\Master Thesis\\Codes\\ComputingMeasures\\find_shapley.py:129: UserWarning: No parser was explicitly specified, so I'm using the best available HTML parser for this system (\"lxml\"). This usually isn't a problem, but if you run this code on another system, or in a different virtual environment, it may use a different parser and behave differently.\n",
      "\n",
      "The code that caused this warning is on line 129 of the file C:\\Users\\Mahdi\\OneDrive\\Master Thesis\\Codes\\ComputingMeasures\\find_shapley.py. To get rid of this warning, pass the additional argument 'features=\"lxml\"' to the BeautifulSoup constructor.\n",
      "\n",
      "  parsed_html = BeautifulSoup(response.text.encode('utf8'))\n"
     ]
    },
    {
     "name": "stdout",
     "output_type": "stream",
     "text": [
      "The symbol  ساذری  mode:  SSCL ,  22  from  81\n",
      "The symbol  ساراب  mode:  SSCL ,  23  from  81\n",
      " It took about  0.79 seconds\n",
      "The symbol  سامان  mode:  SSCL ,  24  from  81\n",
      "The symbol  سباقر  mode:  SSCL ,  25  from  81\n",
      "The symbol  سخرم  mode:  SSCL ,  26  from  81\n",
      "The symbol  سدور  mode:  SSCL ,  27  from  81\n",
      "The symbol  سفارود  mode:  SSCL ,  28  from  81\n",
      "The symbol  سمایه  mode:  SSCL ,  29  from  81\n",
      "The symbol  سپرده  mode:  SSCL ,  30  from  81\n",
      " It took about  0.79 seconds\n",
      "The symbol  سپرده  mode:  SSDL ,  31  from  81\n",
      "The symbol  شزنگ  mode:  SSCL ,  32  from  81\n",
      "The symbol  شستان  mode:  SSCL ,  33  from  81\n",
      "The symbol  شسم  mode:  SSCL ,  34  from  81\n",
      "The symbol  شسینا  mode:  SSCL ,  35  from  81\n",
      "The symbol  فرابورس  mode:  SSDL ,  36  from  81\n",
      "The symbol  فروس  mode:  SSCL ,  37  from  81\n",
      "The symbol  فسدید  mode:  SSCL ,  38  from  81\n",
      "The symbol  فلات  mode:  SSCL ,  39  from  81\n",
      "The symbol  فملی  mode:  SSCL ,  40  from  81\n",
      "The symbol  فولای  mode:  SSCL ,  41  from  81\n",
      "The symbol  فوکا  mode:  SSCL ,  42  from  81\n",
      "The symbol  قثابت  mode:  SSCL ,  43  from  81\n",
      "The symbol  ما  mode:  SSCL ,  44  from  81\n",
      " It took about  0.77 seconds\n",
      "The symbol  نبورس  mode:  SSDL ,  45  from  81\n",
      "The symbol  نکالا  mode:  SSDL ,  46  from  81\n",
      "The symbol  وآذر  mode:  SSCL ,  47  from  81\n",
      "The symbol  وآیند  mode:  SSCL ,  48  from  81\n",
      "The symbol  وتعاون  mode:  SSDL ,  49  from  81\n",
      "The symbol  وثامن  mode:  SSCL ,  50  from  81\n",
      "The symbol  وحکمت  mode:  SSCL ,  51  from  81\n",
      "The symbol  وخاور  mode:  SSCL ,  52  from  81\n",
      "The symbol  وزمین  mode:  SSCL ,  53  from  81\n",
      "The symbol  وساخت  mode:  SSCL ,  54  from  81\n",
      "The symbol  وسالت  mode:  SSCL ,  55  from  81\n",
      "The symbol  وقوام  mode:  SSCL ,  56  from  81\n",
      "The symbol  ولیز  mode:  SSCL ,  57  from  81\n",
      "The symbol  ومشان  mode:  SSCL ,  58  from  81\n",
      "The symbol  وملت  mode:  SSCL ,  59  from  81\n",
      "The symbol  وملل  mode:  SSCL ,  60  from  81\n",
      "The symbol  ونور  mode:  SSCL ,  61  from  81\n",
      "The symbol  وپارس  mode:  SSCL ,  62  from  81\n",
      "The symbol  وپارس  mode:  SSDL ,  63  from  81\n",
      "The symbol  وپاسار  mode:  SSCL ,  64  from  81\n",
      "The symbol  وپترو  mode:  SSCL ,  65  from  81\n",
      "The symbol  وکاسپی  mode:  SSCL ,  66  from  81\n",
      "The symbol  وکوثر  mode:  SSCL ,  67  from  81\n",
      "The symbol  وگردش  mode:  SSDL ,  68  from  81\n",
      "The symbol  پارند  mode:  SSCL ,  69  from  81\n",
      "The symbol  چابهار  mode:  SSCL ,  70  from  81\n",
      "The symbol  چکارم  mode:  SSCL ,  71  from  81\n",
      "The symbol  کاصفا  mode:  SSCL ,  72  from  81\n",
      "The symbol  کالا  mode:  SSCL ,  73  from  81\n",
      "The symbol  کرد  mode:  SSCL ,  74  from  81\n",
      "The symbol  کسرا  mode:  SSCL ,  75  from  81\n",
      "The symbol  کسرام  mode:  SSCL ,  76  from  81\n",
      "The symbol  کقزوی  mode:  SSCL ,  77  from  81\n",
      "The symbol  کهرام  mode:  SSCL ,  78  from  81\n",
      "The symbol  کچینی  mode:  SSCL ,  79  from  81\n",
      "The symbol  کیان  mode:  SSDL ,  80  from  81\n",
      "The symbol  گپارس  mode:  SSCL ,  81  from  81\n",
      "\n",
      "\n",
      "**About  2  out of  81  of mising cells are filled!\n",
      "len(Errors):  78\n",
      "Wall time: 1h 26min 26s\n"
     ]
    },
    {
     "data": {
      "text/plain": [
       "[['ساراب', 'SSCL', 'Error: creating dataFrame error! '],\n",
       " ['سپرده', 'SSCL', 'Error: creating dataFrame error! ']]"
      ]
     },
     "execution_count": 20,
     "metadata": {},
     "output_type": "execute_result"
    }
   ],
   "source": [
    "%%time\n",
    "data = fill_shapley_banzhaf(data = CMdf,SDATA=SDATA,fast_mode = True,time_pnt=True,major_thr = 15)\n",
    "CMdf = data['CMdf']\n",
    "\n",
    "os.chdir(r\"C:\\Users\\Mahdi\\OneDrive\\Master Thesis\\Data\")\n",
    "CMdf.to_csv('Measures.csv')\n",
    "\n",
    "print('len(Errors): ',len(data['Errors']))\n",
    "data['Errors']\n",
    "[x for x in data['Errors'] if x[2]!= 'Error: request error!']"
   ]
  },
  {
   "cell_type": "markdown",
   "metadata": {},
   "source": [
    "# **Loading Balancesheet Data and Merging**"
   ]
  },
  {
   "cell_type": "code",
   "execution_count": 22,
   "metadata": {},
   "outputs": [],
   "source": [
    "blnc_data = read_blnc_data(file='98.txt')\n",
    "blnc_data['book_value'] = blnc_data.Tot_asset-blnc_data.Tot_lib\n",
    "blnc_data = blnc_data[blnc_data.book_value>0]"
   ]
  },
  {
   "cell_type": "code",
   "execution_count": 23,
   "metadata": {},
   "outputs": [],
   "source": [
    "data_out = pd.merge(CMdf,blnc_data[['Symbol','Tot_asset', 'Tot_lib', 'Capital', 'Equity_at_year_end','Debt_Equity', 'Debt_Equity_normal', 'book_value']]\n",
    "                    ,left_on='Symbol',right_on='Symbol',how='outer')\n",
    "\n",
    "os.chdir(r\"C:\\Users\\Mahdi\\OneDrive\\Master Thesis\\Data\")\n",
    "data_out.to_csv('data_owenership97_blnc98.csv')"
   ]
  }
 ],
 "metadata": {
  "kernelspec": {
   "display_name": "Python 3",
   "language": "python",
   "name": "python3"
  },
  "language_info": {
   "codemirror_mode": {
    "name": "ipython",
    "version": 3
   },
   "file_extension": ".py",
   "mimetype": "text/x-python",
   "name": "python",
   "nbconvert_exporter": "python",
   "pygments_lexer": "ipython3",
   "version": "3.7.6"
  },
  "varInspector": {
   "cols": {
    "lenName": 16,
    "lenType": 16,
    "lenVar": 40
   },
   "kernels_config": {
    "python": {
     "delete_cmd_postfix": "",
     "delete_cmd_prefix": "del ",
     "library": "var_list.py",
     "varRefreshCmd": "print(var_dic_list())"
    },
    "r": {
     "delete_cmd_postfix": ") ",
     "delete_cmd_prefix": "rm(",
     "library": "var_list.r",
     "varRefreshCmd": "cat(var_dic_list()) "
    }
   },
   "types_to_exclude": [
    "module",
    "function",
    "builtin_function_or_method",
    "instance",
    "_Feature"
   ],
   "window_display": false
  }
 },
 "nbformat": 4,
 "nbformat_minor": 4
}
