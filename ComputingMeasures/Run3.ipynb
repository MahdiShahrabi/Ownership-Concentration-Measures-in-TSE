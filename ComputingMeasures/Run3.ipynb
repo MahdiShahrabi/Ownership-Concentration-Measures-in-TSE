{
 "cells": [
  {
   "cell_type": "code",
   "execution_count": 1,
   "metadata": {},
   "outputs": [],
   "source": [
    "import os\n",
    "from tell_time import tell_time\n",
    "import pytz\n",
    "from find_measures import find_measures"
   ]
  },
  {
   "cell_type": "code",
   "execution_count": 2,
   "metadata": {},
   "outputs": [],
   "source": [
    "path = r\"C:\\Users\\Mahdi\\OneDrive\\Master Thesis\\Data\\MonthlyShareholder\"\n",
    "os.chdir(path)\n",
    "ls = os.listdir()"
   ]
  },
  {
   "cell_type": "code",
   "execution_count": null,
   "metadata": {},
   "outputs": [
    {
     "name": "stdout",
     "output_type": "stream",
     "text": [
      "**Year 1397|1 has Started!***\n",
      "Current time is:  11:07:45\n",
      "\n",
      "\n",
      "**Year 1397|2 has Started!***\n",
      "Current time is:  11:07:45\n",
      "\n",
      "\n",
      "**Year 1397|3 has Started!***\n",
      "Current time is:  11:07:45\n",
      "\n",
      "\n",
      "**Year 1397|4 has Started!***\n",
      "Current time is:  11:07:45\n",
      "\n",
      "\n",
      "**Year 1397|5 has Started!***\n",
      "Current time is:  11:07:45\n",
      "\n",
      "\n",
      "**Year 1397|6 has Started!***\n",
      "Current time is:  11:07:45\n",
      "\n",
      "\n",
      "**Year 1397|7 has Started!***\n",
      "Current time is:  11:07:45\n",
      "\n",
      "\n",
      "**Year 1397|8 has Started!***\n",
      "Current time is:  11:07:45\n",
      "\n",
      "\n",
      "**Year 1397|9 has Started!***\n",
      "Current time is:  11:07:45\n",
      "\n",
      "\n",
      "Number of observed firms in year  1397  is :  606\n"
     ]
    },
    {
     "name": "stderr",
     "output_type": "stream",
     "text": [
      "C:\\Users\\Mahdi\\Anaconda3\\lib\\site-packages\\pandas\\core\\reshape\\merge.py:618: UserWarning: merging between different levels can give an unintended result (1 levels on the left, 2 on the right)\n",
      "  warnings.warn(msg, UserWarning)\n",
      "C:\\Users\\Mahdi\\Anaconda3\\lib\\site-packages\\pandas\\core\\generic.py:3936: PerformanceWarning: dropping on a non-lexsorted multi-index without a level parameter may impact performance.\n",
      "  obj = obj._drop_axis(labels, axis, level=level, errors=errors)\n"
     ]
    },
    {
     "name": "stdout",
     "output_type": "stream",
     "text": [
      "NEW!\n",
      "\n",
      "\n",
      "**About  2370  out of  2424  of mising cells are filled!\n",
      "len(Errors):  42\n",
      "Orginal Size is  606  and output size is:  606\n",
      "\n",
      "\n",
      "\n",
      "**Year 1397|10 has Started!***\n",
      "Current time is:  12:07:15\n",
      "\n",
      "\n",
      "Number of observed firms in year  1397  is :  602\n",
      "NEW!\n",
      "\n",
      "\n",
      "**About  2339  out of  2408  of mising cells are filled!\n",
      "len(Errors):  57\n",
      "Orginal Size is  602  and output size is:  602\n",
      "\n",
      "\n",
      "\n",
      "**Year 1397|11 has Started!***\n",
      "Current time is:  13:34:33\n",
      "\n",
      "\n",
      "Number of observed firms in year  1397  is :  612\n",
      "NEW!\n",
      "\n",
      "\n",
      "**About  2364  out of  2448  of mising cells are filled!\n",
      "len(Errors):  69\n",
      "Orginal Size is  612  and output size is:  612\n",
      "\n",
      "\n",
      "\n",
      "**Year 1397|12 has Started!***\n",
      "Current time is:  15:20:46\n",
      "\n",
      "\n",
      "**Year 1398|1 has Started!***\n",
      "Current time is:  15:20:46\n",
      "\n",
      "\n",
      "**Year 1398|2 has Started!***\n",
      "Current time is:  15:20:46\n",
      "\n",
      "\n",
      "Number of observed firms in year  1398  is :  584\n",
      "NEW!\n"
     ]
    }
   ],
   "source": [
    "for year in range(1397,1399):\n",
    "    \n",
    "    for month in range(1,13):\n",
    "        \n",
    "        tell_time('**Year '+str(year)+'|'+str(month)+' has Started!***')\n",
    "        print('\\n')\n",
    "        \n",
    "        if \"Measures\"+str(year)+'_'+str(month)+\".csv\" not in ls:            \n",
    "            try:                \n",
    "                find_measures(year=year,month=month,pnt=False)\n",
    "                print('\\n\\n')                    \n",
    "            except:\n",
    "                pass"
   ]
  },
  {
   "cell_type": "code",
   "execution_count": null,
   "metadata": {},
   "outputs": [],
   "source": [
    "lj"
   ]
  },
  {
   "cell_type": "code",
   "execution_count": null,
   "metadata": {},
   "outputs": [],
   "source": []
  }
 ],
 "metadata": {
  "kernelspec": {
   "display_name": "Python 3",
   "language": "python",
   "name": "python3"
  },
  "language_info": {
   "codemirror_mode": {
    "name": "ipython",
    "version": 3
   },
   "file_extension": ".py",
   "mimetype": "text/x-python",
   "name": "python",
   "nbconvert_exporter": "python",
   "pygments_lexer": "ipython3",
   "version": "3.7.6"
  }
 },
 "nbformat": 4,
 "nbformat_minor": 4
}
